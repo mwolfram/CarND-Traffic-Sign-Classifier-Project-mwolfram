{
 "cells": [
  {
   "cell_type": "markdown",
   "metadata": {},
   "source": [
    "# Self-Driving Car Engineer Nanodegree\n",
    "\n",
    "## Deep Learning\n",
    "\n",
    "## Project: Build a Traffic Sign Recognition Classifier\n",
    "\n",
    "In this notebook, a template is provided for you to implement your functionality in stages, which is required to successfully complete this project. If additional code is required that cannot be included in the notebook, be sure that the Python code is successfully imported and included in your submission if necessary. \n",
    "\n",
    "> **Note**: Once you have completed all of the code implementations, you need to finalize your work by exporting the iPython Notebook as an HTML document. Before exporting the notebook to html, all of the code cells need to have been run so that reviewers can see the final implementation and output. You can then export the notebook by using the menu above and navigating to  \\n\",\n",
    "    \"**File -> Download as -> HTML (.html)**. Include the finished document along with this notebook as your submission. \n",
    "\n",
    "In addition to implementing code, there is a writeup to complete. The writeup should be completed in a separate file, which can be either a markdown file or a pdf document. There is a [write up template](https://github.com/udacity/CarND-Traffic-Sign-Classifier-Project/blob/master/writeup_template.md) that can be used to guide the writing process. Completing the code template and writeup template will cover all of the [rubric points](https://review.udacity.com/#!/rubrics/481/view) for this project.\n",
    "\n",
    "The [rubric](https://review.udacity.com/#!/rubrics/481/view) contains \"Stand Out Suggestions\" for enhancing the project beyond the minimum requirements. The stand out suggestions are optional. If you decide to pursue the \"stand out suggestions\", you can include the code in this Ipython notebook and also discuss the results in the writeup file.\n",
    "\n",
    "\n",
    ">**Note:** Code and Markdown cells can be executed using the **Shift + Enter** keyboard shortcut. In addition, Markdown cells can be edited by typically double-clicking the cell to enter edit mode."
   ]
  },
  {
   "cell_type": "markdown",
   "metadata": {},
   "source": [
    "---\n",
    "## Step 0: Load The Data"
   ]
  },
  {
   "cell_type": "code",
   "execution_count": 1,
   "metadata": {
    "collapsed": false
   },
   "outputs": [],
   "source": [
    "# Load pickled data\n",
    "import pickle\n",
    "\n",
    "# TODO: Fill this in based on where you saved the training and testing data\n",
    "\n",
    "training_file = \"train.p\"\n",
    "validation_file= \"valid.p\"\n",
    "testing_file = \"test.p\"\n",
    "\n",
    "with open(training_file, mode='rb') as f:\n",
    "    train = pickle.load(f)\n",
    "with open(validation_file, mode='rb') as f:\n",
    "    valid = pickle.load(f)\n",
    "with open(testing_file, mode='rb') as f:\n",
    "    test = pickle.load(f)\n",
    "    \n",
    "X_train, y_train = train['features'], train['labels']\n",
    "X_valid, y_valid = valid['features'], valid['labels']\n",
    "X_test, y_test = test['features'], test['labels']"
   ]
  },
  {
   "cell_type": "markdown",
   "metadata": {},
   "source": [
    "---\n",
    "\n",
    "## Step 1: Dataset Summary & Exploration\n",
    "\n",
    "The pickled data is a dictionary with 4 key/value pairs:\n",
    "\n",
    "- `'features'` is a 4D array containing raw pixel data of the traffic sign images, (num examples, width, height, channels).\n",
    "- `'labels'` is a 1D array containing the label/class id of the traffic sign. The file `signnames.csv` contains id -> name mappings for each id.\n",
    "- `'sizes'` is a list containing tuples, (width, height) representing the the original width and height the image.\n",
    "- `'coords'` is a list containing tuples, (x1, y1, x2, y2) representing coordinates of a bounding box around the sign in the image. **THESE COORDINATES ASSUME THE ORIGINAL IMAGE. THE PICKLED DATA CONTAINS RESIZED VERSIONS (32 by 32) OF THESE IMAGES**\n",
    "\n",
    "Complete the basic data summary below. Use python, numpy and/or pandas methods to calculate the data summary rather than hard coding the results. For example, the [pandas shape method](http://pandas.pydata.org/pandas-docs/stable/generated/pandas.DataFrame.shape.html) might be useful for calculating some of the summary results. "
   ]
  },
  {
   "cell_type": "markdown",
   "metadata": {},
   "source": [
    "### Provide a Basic Summary of the Data Set Using Python, Numpy and/or Pandas"
   ]
  },
  {
   "cell_type": "code",
   "execution_count": 2,
   "metadata": {
    "collapsed": false
   },
   "outputs": [
    {
     "name": "stdout",
     "output_type": "stream",
     "text": [
      "Number of training examples = 34799\n",
      "Number of testing examples = 12630\n",
      "Image data shape = (32, 32, 3)\n",
      "Number of classes = 43\n"
     ]
    }
   ],
   "source": [
    "### Replace each question mark with the appropriate value. \n",
    "### Use python, pandas or numpy methods rather than hard coding the results\n",
    "\n",
    "# TODO: Number of training examples\n",
    "n_train = len(X_train)\n",
    "\n",
    "# TODO: Number of testing examples.\n",
    "n_test = len(X_test)\n",
    "\n",
    "# TODO: What's the shape of an traffic sign image?\n",
    "image_shape = X_train[0].shape\n",
    "\n",
    "# TODO: How many unique classes/labels there are in the dataset.\n",
    "n_classes = len(set(y_train))\n",
    "\n",
    "print(\"Number of training examples =\", n_train)\n",
    "print(\"Number of testing examples =\", n_test)\n",
    "print(\"Image data shape =\", image_shape)\n",
    "print(\"Number of classes =\", n_classes)"
   ]
  },
  {
   "cell_type": "markdown",
   "metadata": {},
   "source": [
    "### Include an exploratory visualization of the dataset"
   ]
  },
  {
   "cell_type": "markdown",
   "metadata": {},
   "source": [
    "Visualize the German Traffic Signs Dataset using the pickled file(s). This is open ended, suggestions include: plotting traffic sign images, plotting the count of each sign, etc.\n",
    "\n",
    "The [Matplotlib](http://matplotlib.org/) [examples](http://matplotlib.org/examples/index.html) and [gallery](http://matplotlib.org/gallery.html) pages are a great resource for doing visualizations in Python.\n",
    "\n",
    "**NOTE:** It's recommended you start with something simple first. If you wish to do more, come back to it after you've completed the rest of the sections."
   ]
  },
  {
   "cell_type": "code",
   "execution_count": 3,
   "metadata": {
    "collapsed": false
   },
   "outputs": [],
   "source": [
    "### Data exploration visualization code goes here.\n",
    "### Feel free to use as many code cells as needed.\n",
    "import random\n",
    "import matplotlib.pyplot as plt\n",
    "# Visualizations will be shown in the notebook.\n",
    "%matplotlib inline\n",
    "\n",
    "# TODO more images at once\n",
    "# TODO count all occurrences\n",
    "\n",
    "def print_random_image():\n",
    "    index = random.randint(0, len(X_train))\n",
    "    image = X_train[index].squeeze()\n",
    "    plt.figure(figsize=(1,1))\n",
    "    plt.imshow(image, cmap=\"gray\")\n",
    "    print(y_train[index])\n",
    "    \n",
    "def print_random_greyscale():\n",
    "    index = random.randint(0, len(X_train))\n",
    "    rgb = X_train[index]\n",
    "    gray = rgb2gray(rgb)\n",
    "\n",
    "    plt.figure(figsize=(1,1))\n",
    "    plt.imshow(gray, cmap=\"gray\")\n",
    "    print(y_train[index])\n",
    "    \n",
    "def print_image(img):\n",
    "    plt.figure(figsize=(1,1))\n",
    "    plt.imshow(img, cmap=\"gray\")\n"
   ]
  },
  {
   "cell_type": "markdown",
   "metadata": {},
   "source": [
    "----\n",
    "\n",
    "## Step 2: Design and Test a Model Architecture\n",
    "\n",
    "Design and implement a deep learning model that learns to recognize traffic signs. Train and test your model on the [German Traffic Sign Dataset](http://benchmark.ini.rub.de/?section=gtsrb&subsection=dataset).\n",
    "\n",
    "There are various aspects to consider when thinking about this problem:\n",
    "\n",
    "- Neural network architecture\n",
    "- Play around preprocessing techniques (normalization, rgb to grayscale, etc)\n",
    "- Number of examples per label (some have more than others).\n",
    "- Generate fake data.\n",
    "\n",
    "Here is an example of a [published baseline model on this problem](http://yann.lecun.com/exdb/publis/pdf/sermanet-ijcnn-11.pdf). It's not required to be familiar with the approach used in the paper but, it's good practice to try to read papers like these.\n",
    "\n",
    "**NOTE:** The LeNet-5 implementation shown in the [classroom](https://classroom.udacity.com/nanodegrees/nd013/parts/fbf77062-5703-404e-b60c-95b78b2f3f9e/modules/6df7ae49-c61c-4bb2-a23e-6527e69209ec/lessons/601ae704-1035-4287-8b11-e2c2716217ad/concepts/d4aca031-508f-4e0b-b493-e7b706120f81) at the end of the CNN lesson is a solid starting point. You'll have to change the number of classes and possibly the preprocessing, but aside from that it's plug and play!"
   ]
  },
  {
   "cell_type": "markdown",
   "metadata": {},
   "source": [
    "### Pre-process the Data Set (normalization, grayscale, etc.)"
   ]
  },
  {
   "cell_type": "markdown",
   "metadata": {},
   "source": [
    "Use the code cell (or multiple code cells, if necessary) to implement the first step of your project."
   ]
  },
  {
   "cell_type": "code",
   "execution_count": 8,
   "metadata": {
    "collapsed": false
   },
   "outputs": [
    {
     "name": "stdout",
     "output_type": "stream",
     "text": [
      "8\n"
     ]
    },
    {
     "data": {
      "image/png": "[encoded data removed]",
      "text/plain": [
       "<matplotlib.figure.Figure at 0x7f68280e1550>"
      ]
     },
     "metadata": {},
     "output_type": "display_data"
    }
   ],
   "source": [
    "### Preprocess the data here. Preprocessing steps could include normalization, converting to grayscale, etc.\n",
    "### Feel free to use as many code cells as needed.\n",
    "import numpy as np\n",
    "import tensorflow as tf\n",
    "from tensorflow.contrib.layers import flatten\n",
    "from sklearn.preprocessing import normalize\n",
    "\n",
    "def rgb2gray(rgb):\n",
    "    return np.dot(rgb[...,:3], [0.299, 0.587, 0.114])\n",
    "\n",
    "def greyscale_and_normalize(rgb):\n",
    "    return normalize(rgb2gray(rgb)).reshape(32, 32, 1)\n",
    "    #return normalize(rgb2gray(rgb)).flatten()\n",
    "\n",
    "def greyscale_and_normalize_dataset(dataset):\n",
    "    normalized_dataset = []\n",
    "    for elem in dataset:\n",
    "        normalized_dataset.append(greyscale_and_normalize(elem))\n",
    "    return normalized_dataset\n",
    "\n",
    "print_random_greyscale()\n"
   ]
  },
  {
   "cell_type": "markdown",
   "metadata": {},
   "source": [
    "### Model Architecture"
   ]
  },
  {
   "cell_type": "code",
   "execution_count": 9,
   "metadata": {
    "collapsed": true
   },
   "outputs": [],
   "source": [
    "### Define your architecture here.\n",
    "### Feel free to use as many code cells as needed.\n",
    "\n",
    "def maxpool2d(x, k=2):\n",
    "    return tf.nn.max_pool(\n",
    "        x,\n",
    "        ksize=[1, k, k, 1],\n",
    "        strides=[1, k, k, 1],\n",
    "        padding='VALID')\n",
    "\n",
    "def linear(x, out_size, out_depth, namespace):\n",
    "    W = tf.Variable(tf.truncated_normal(shape=(out_size, out_depth), mean=0, stddev=0.1), name=namespace+\"_weights\")\n",
    "    b = tf.Variable(tf.zeros(out_depth), name=namespace+\"_biases\")\n",
    "    return W, b, tf.matmul(x, W) + b\n",
    "\n",
    "def linear_w_relu(x, out_size, out_depth, namespace):\n",
    "    W = tf.Variable(tf.truncated_normal(shape=(out_size, out_depth), mean=0, stddev=0.1), name=namespace+\"_weights\")\n",
    "    b = tf.Variable(tf.zeros(out_depth), name=namespace+\"_biases\")\n",
    "    return W, b, tf.nn.relu(tf.matmul(x, W) + b)\n",
    "\n",
    "def conv2d(x, filter_size, in_depth, out_depth, namespace, strides=1):\n",
    "    W = tf.Variable(tf.truncated_normal(shape=(filter_size, filter_size, in_depth, out_depth), mean=0, stddev=0.1), name=namespace+\"_weights\")\n",
    "    b = tf.Variable(tf.zeros(out_depth), name=namespace+\"_biases\")\n",
    "    return W, b, tf.nn.relu(tf.nn.conv2d(x, W, strides=[1, strides, strides, 1], padding='VALID') + b)\n",
    "\n",
    "def LeNet(x):\n",
    "\n",
    "    #x = tf.reshape(x, (-1, 32, 32, 1))\n",
    "    \n",
    "    # Conv Layer 1 and activation\n",
    "    conv1_W, conv1_b, conv1 = conv2d(x, 5, 1, 6, \"conv1\")\n",
    "\n",
    "    # Max-Pool Conv1\n",
    "    conv1 = maxpool2d(conv1)\n",
    "\n",
    "    # Conv Layer 2 and activation\n",
    "    conv2_W, conv2_b, conv2 = conv2d(conv1, 5, 6, 16, \"conv2\")\n",
    "    \n",
    "    # Max-Pool Conv 2\n",
    "    conv2 = maxpool2d(conv2)\n",
    "\n",
    "    # Flatten to get 400 outputs\n",
    "    flat0 = flatten(conv2)\n",
    "\n",
    "    # Fully connected layer with 120 outputs\n",
    "    flat1_W, flat1_b, flat1 = linear_w_relu(flat0, 400, 120, \"flat1\")\n",
    "\n",
    "    # Fully connected layer with 84 outputs\n",
    "    flat2_W, flat2_b, flat2 = linear_w_relu(flat1, 120, 84, \"flat2\")\n",
    "\n",
    "    # Fuly connected layer with 43 outputs\n",
    "    flat3_W, flat3_b, flat3 = linear(flat2, 84, 43, \"flat3\")\n",
    "\n",
    "    return conv1_W, conv1_b, conv2_W, conv2_b, flat1_W, flat1_b, flat2_W, flat2_b, flat3_W, flat3_b, flat3\n"
   ]
  },
  {
   "cell_type": "markdown",
   "metadata": {},
   "source": [
    "### Train, Validate and Test the Model"
   ]
  },
  {
   "cell_type": "markdown",
   "metadata": {},
   "source": [
    "A validation set can be used to assess how well the model is performing. A low accuracy on the training and validation\n",
    "sets imply underfitting. A high accuracy on the training set but low accuracy on the validation set implies overfitting."
   ]
  },
  {
   "cell_type": "code",
   "execution_count": 16,
   "metadata": {
    "collapsed": false
   },
   "outputs": [
    {
     "name": "stdout",
     "output_type": "stream",
     "text": [
      "Training...\n",
      "(32, 32, 1)\n",
      "[[ 0.08805548  0.08464023  0.08425089 ...,  0.09815439  0.09551781\n",
      "   0.09590715]\n",
      " [ 0.08820029  0.08354708  0.08354708 ...,  0.09464498  0.09172725\n",
      "   0.09111802]\n",
      " [ 0.08865073  0.08455782  0.08356126 ...,  0.09578998  0.09283696\n",
      "   0.09222036]\n",
      " ..., \n",
      " [ 0.1687129   0.17552051  0.17959146 ...,  0.1687129   0.16997231\n",
      "   0.17600385]\n",
      " [ 0.16762126  0.17446434  0.18257339 ...,  0.16959207  0.17085804\n",
      "   0.17007792]\n",
      " [ 0.1717867   0.17871526  0.18206869 ...,  0.17092063  0.16606371\n",
      "   0.15913515]]\n",
      "(32, 32, 1)\n",
      "[[ 0.20616682  0.20012765  0.19863157 ...,  0.16511343  0.18376723\n",
      "   0.2031706 ]\n",
      " [ 0.21148641  0.20866731  0.21173688 ...,  0.17802918  0.18550243\n",
      "   0.19761201]\n",
      " [ 0.21283591  0.21124505  0.21578931 ...,  0.18874258  0.20103607\n",
      "   0.20728746]\n",
      " ..., \n",
      " [ 0.08393145  0.07761435  0.07022894 ...,  0.24592886  0.24036491\n",
      "   0.22505925]\n",
      " [ 0.08422744  0.08211012  0.07740733 ...,  0.22676711  0.21227815\n",
      "   0.20663903]\n",
      " [ 0.0890147   0.0880857   0.08240883 ...,  0.1953718   0.16235035\n",
      "   0.14537987]]\n",
      "(32, 32, 1)\n",
      "[[ 0.1586925   0.14735459  0.15346041 ...,  0.23752597  0.23752597\n",
      "   0.23752597]\n",
      " [ 0.13706644  0.14088952  0.14719255 ...,  0.24359979  0.24359979\n",
      "   0.24359979]\n",
      " [ 0.13192694  0.12851066  0.13386059 ...,  0.24111528  0.24111528\n",
      "   0.24111528]\n",
      " ..., \n",
      " [ 0.19688451  0.19910223  0.21188414 ...,  0.16602005  0.14475571\n",
      "   0.12576736]\n",
      " [ 0.22422381  0.22106419  0.22213333 ...,  0.09652133  0.09289313\n",
      "   0.14678067]\n",
      " [ 0.24876947  0.25373359  0.24361543 ...,  0.09370439  0.12419081\n",
      "   0.1668386 ]]\n",
      "(32, 32, 1)\n",
      "[[ 0.31955988  0.25974346  0.20503622 ...,  0.12372019  0.16217243\n",
      "   0.1421666 ]\n",
      " [ 0.26611786  0.31662008  0.2800429  ...,  0.09759355  0.15289792\n",
      "   0.15387304]\n",
      " [ 0.31105873  0.3463849   0.32060083 ...,  0.13518172  0.14160082\n",
      "   0.13510096]\n",
      " ..., \n",
      " [ 0.17237029  0.1522781   0.13020311 ...,  0.12470116  0.14281053\n",
      "   0.15468341]\n",
      " [ 0.1782455   0.20081394  0.165219   ...,  0.1105402   0.11905301\n",
      "   0.13156495]\n",
      " [ 0.15842249  0.16176765  0.16324957 ...,  0.10402041  0.11652574\n",
      "   0.12036487]]\n",
      "(32, 32, 1)\n",
      "[[ 0.06655867  0.06285841  0.05773572 ...,  0.04634415  0.04634415\n",
      "   0.0501898 ]\n",
      " [ 0.10258716  0.09559809  0.08745766 ...,  0.07793482  0.08134656\n",
      "   0.08245557]\n",
      " [ 0.12409785  0.11882315  0.10985089 ...,  0.1104522   0.10827375\n",
      "   0.10767244]\n",
      " ..., \n",
      " [ 0.18434662  0.17762585  0.16241064 ...,  0.1539162   0.15282324\n",
      "   0.14610246]\n",
      " [ 0.19033411  0.18087652  0.17141892 ...,  0.14628063  0.14628063\n",
      "   0.15466006]\n",
      " [ 0.20898294  0.19846059  0.17782205 ...,  0.16323811  0.16498554\n",
      "   0.16216132]]\n",
      "(32, 32, 1)\n",
      "[[ 0.1604992   0.17380184  0.18085519 ...,  0.18821185  0.19687337\n",
      "   0.19446113]\n",
      " [ 0.16252522  0.1720536   0.1720536  ...,  0.17803176  0.18409061\n",
      "   0.18241819]\n",
      " [ 0.17133022  0.16180078  0.16614377 ...,  0.18178449  0.18178449\n",
      "   0.17354241]\n",
      " ..., \n",
      " [ 0.05789927  0.05160253  0.05236375 ...,  0.06062029  0.06433957\n",
      "   0.06533783]\n",
      " [ 0.0656433   0.05850437  0.06228959 ...,  0.06494303  0.07029155\n",
      "   0.07029155]\n",
      " [ 0.06629713  0.06629713  0.06960346 ...,  0.06554661  0.06722209\n",
      "   0.06960346]]\n",
      "(32, 32, 1)\n",
      "[[ 0.19718778  0.16882742  0.13797228 ...,  0.19532659  0.19537784\n",
      "   0.22481438]\n",
      " [ 0.20906029  0.15830706  0.11039212 ...,  0.21390426  0.22109208\n",
      "   0.2484977 ]\n",
      " [ 0.20190394  0.14028104  0.10091338 ...,  0.22431589  0.23111688\n",
      "   0.24854502]\n",
      " ..., \n",
      " [ 0.20235662  0.19932787  0.21028474 ...,  0.18671007  0.1921885\n",
      "   0.21026806]\n",
      " [ 0.17606412  0.18169267  0.19498742 ...,  0.18421957  0.19161505\n",
      "   0.20057322]\n",
      " [ 0.15661321  0.17096091  0.18586438 ...,  0.18176922  0.19036663\n",
      "   0.20101893]]\n",
      "(32, 32, 1)\n",
      "[[ 0.16658486  0.18880955  0.18880955 ...,  0.17408506  0.16372525\n",
      "   0.16372525]\n",
      " [ 0.18096873  0.18845485  0.18845485 ...,  0.17375803  0.16341767\n",
      "   0.16341767]\n",
      " [ 0.1764783   0.18377866  0.19107902 ...,  0.16944651  0.1764783\n",
      "   0.1764783 ]\n",
      " ..., \n",
      " [ 0.12323559  0.12323559  0.11657464 ...,  0.11657464  0.12139697\n",
      "   0.12139697]\n",
      " [ 0.10368261  0.10368261  0.0996254  ...,  0.10213571  0.08856647\n",
      "   0.08856647]\n",
      " [ 0.10865279  0.10865279  0.11029839 ...,  0.10865279  0.09421772\n",
      "   0.09421772]]\n",
      "(32, 32, 1)\n",
      "[[ 0.19489128  0.19508703  0.19216626 ...,  0.16088605  0.16056839\n",
      "   0.15649889]\n",
      " [ 0.19764389  0.19270053  0.18986057 ...,  0.16118014  0.16137541\n",
      "   0.1598578 ]\n",
      " [ 0.19929456  0.19535016  0.19230993 ...,  0.16284441  0.1616417   0.159926  ]\n",
      " ..., \n",
      " [ 0.16160419  0.16082772  0.16238067 ...,  0.14214344  0.14174792\n",
      "   0.14127305]\n",
      " [ 0.16054251  0.16039123  0.16141565 ...,  0.14524661  0.14562878\n",
      "   0.14578005]\n",
      " [ 0.16179756  0.16166026  0.15994332 ...,  0.14857659  0.14496142\n",
      "   0.14629445]]\n",
      "(32, 32, 1)\n",
      "[[ 0.1828377   0.18368625  0.1810284  ...,  0.17685403  0.1770539\n",
      "   0.17632983]\n",
      " [ 0.17882385  0.18108186  0.18140344 ...,  0.17393064  0.17566891\n",
      "   0.17708559]\n",
      " [ 0.17995847  0.18047947  0.18028083 ...,  0.17629403  0.17629403\n",
      "   0.17823516]\n",
      " ..., \n",
      " [ 0.21109071  0.20940123  0.21523621 ...,  0.21615912  0.21245983\n",
      "   0.21613815]\n",
      " [ 0.21162775  0.20878227  0.21215888 ...,  0.21848451  0.21237747\n",
      "   0.21563903]\n",
      " [ 0.20840847  0.21202966  0.21721567 ...,  0.22070054  0.2153782\n",
      "   0.21502299]]\n",
      "(32, 32, 1)\n",
      "[[ 0.17563301  0.19617793  0.18469877 ...,  0.18848852  0.1822806\n",
      "   0.17129368]\n",
      " [ 0.16584209  0.17589986  0.17921775 ...,  0.181944    0.21029036\n",
      "   0.20584127]\n",
      " [ 0.16678931  0.17161749  0.16793069 ...,  0.16930607  0.19401525\n",
      "   0.1884373 ]\n",
      " ..., \n",
      " [ 0.09777948  0.08981802  0.08802308 ...,  0.12554028  0.10711178\n",
      "   0.08750041]\n",
      " [ 0.0698009   0.06490384  0.06170856 ...,  0.07260121  0.06735237\n",
      "   0.06923004]\n",
      " [ 0.06342752  0.06318132  0.05858994 ...,  0.06997854  0.06401187\n",
      "   0.06448021]]\n",
      "(32, 32, 1)\n",
      "[[ 0.17512163  0.17619941  0.17656313 ...,  0.17411684  0.17291377\n",
      "   0.1698921 ]\n",
      " [ 0.17530551  0.17446695  0.176409   ...,  0.17396503  0.1737402\n",
      "   0.17023285]\n",
      " [ 0.17442436  0.17416047  0.17610374 ...,  0.17542882  0.17421276\n",
      "   0.17091481]\n",
      " ..., \n",
      " [ 0.25767397  0.25383498  0.25598755 ...,  0.22573539  0.22525969\n",
      "   0.21907721]\n",
      " [ 0.24846207  0.25520378  0.25686091 ...,  0.22575126  0.22215401\n",
      "   0.21696723]\n",
      " [ 0.24703143  0.25533582  0.253076   ...,  0.21938439  0.2165999\n",
      "   0.21370648]]\n",
      "EPOCH 1 ...\n",
      "Validation loss = 3.809\n",
      "Validation accuracy = 0.020\n",
      "\n"
     ]
    }
   ],
   "source": [
    "### Train your model here.\n",
    "### Calculate and report the accuracy on the training and validation set.\n",
    "### Once a final model architecture is selected, \n",
    "### the accuracy on the test set should be calculated and reported as well.\n",
    "### Feel free to use as many code cells as needed.\n",
    "\n",
    "EPOCHS = 1\n",
    "BATCH_SIZE = 50\n",
    "\n",
    "def plot_conv_weights(weights):\n",
    "    weights = weights.flatten()\n",
    "    w = []\n",
    "    for i in range(len(weights)):\n",
    "        if i % 25 == 0:\n",
    "            w.append([])\n",
    "        w[len(w)-1].append(weights[i])\n",
    "    for w_elem in w:\n",
    "        print(len(w_elem))\n",
    "        print_image(np.array(w_elem).reshape(5, 5))\n",
    "    \n",
    "\n",
    "x = tf.placeholder(tf.float32, (None, image_shape[0], image_shape[1], 1))\n",
    "y = tf.placeholder(tf.float32, (None, n_classes))\n",
    "\n",
    "conv1_W, conv1_b, conv2_W, conv2_b, flat1_W, flat1_b, flat2_W, flat2_b, flat3_W, flat3_b, lenet = LeNet(x)\n",
    "\n",
    "loss_op = tf.reduce_mean(tf.nn.softmax_cross_entropy_with_logits(lenet, y))\n",
    "opt = tf.train.AdamOptimizer()\n",
    "train_op = opt.minimize(loss_op)\n",
    "correct_prediction = tf.equal(tf.argmax(lenet, 1), tf.argmax(y, 1))\n",
    "accuracy_op = tf.reduce_mean(tf.cast(correct_prediction, tf.float32))\n",
    "\n",
    "\n",
    "def get_batch(dataset, step, batch_size):\n",
    "    return dataset[step*batch_size:min(len(dataset),(step+1)*batch_size)]\n",
    "\n",
    "def one_hot(labels, n_classes):\n",
    "    onehot = []\n",
    "    for label in labels:\n",
    "        label_array = np.zeros(n_classes)\n",
    "        label_array[label] = 1\n",
    "        onehot.append(label_array)\n",
    "    return onehot\n",
    "\n",
    "def eval_data(samples, labels):\n",
    "    steps_per_epoch = len(samples) // BATCH_SIZE\n",
    "    num_examples = steps_per_epoch * BATCH_SIZE\n",
    "    total_acc, total_loss = 0, 0\n",
    "    sess = tf.get_default_session()\n",
    "    for step in range(steps_per_epoch):\n",
    "        batch_x = greyscale_and_normalize_dataset(get_batch(samples, step, BATCH_SIZE))\n",
    "        #batch_x = get_batch_of_samples(samples, step, BATCH_SIZE)\n",
    "        batch_y = one_hot(get_batch(labels, step, BATCH_SIZE), n_classes)\n",
    "        loss, acc = sess.run([loss_op, accuracy_op], feed_dict={x: batch_x, y: batch_y})\n",
    "        total_acc += (acc * len(batch_x))\n",
    "        total_loss += (loss * len(batch_x))\n",
    "    return total_loss/num_examples, total_acc/num_examples\n",
    "\n",
    "with tf.Session() as sess:\n",
    "    sess.run(tf.global_variables_initializer())\n",
    "    steps_per_epoch = n_train // BATCH_SIZE\n",
    "    num_examples = steps_per_epoch * BATCH_SIZE\n",
    "\n",
    "    print(\"Training...\")\n",
    "    \n",
    "    # Train model\n",
    "    for i in range(EPOCHS):\n",
    "        for step in range(steps_per_epoch):\n",
    "            batch_x = greyscale_and_normalize_dataset(get_batch(X_train, step, BATCH_SIZE))\n",
    "            \n",
    "            print(batch_x[0].shape)\n",
    "            #print(batch_x[0])\n",
    "            print(batch_x[0].reshape(32,32))\n",
    "            \n",
    "            batch_y = one_hot(get_batch(y_train, step, BATCH_SIZE), n_classes)\n",
    "            loss = sess.run(train_op, feed_dict={x: batch_x, y: batch_y})\n",
    "            \n",
    "            #plot_conv_weights(sess.run(conv1_W))\n",
    "            \n",
    "            if step > 10:\n",
    "                break\n",
    "\n",
    "        val_loss, val_acc = eval_data(X_valid, y_valid)\n",
    "        print(\"EPOCH {} ...\".format(i+1))\n",
    "        print(\"Validation loss = {:.3f}\".format(val_loss))\n",
    "        print(\"Validation accuracy = {:.3f}\".format(val_acc))\n",
    "        print()\n",
    "\n",
    "    # Evaluate on the test data\n",
    "    #test_loss, test_acc = eval_data(mnist.test)\n",
    "    #print(\"Test loss = {:.3f}\".format(test_loss))\n",
    "    #print(\"Test accuracy = {:.3f}\".format(test_acc))\n",
    "\n"
   ]
  },
  {
   "cell_type": "markdown",
   "metadata": {},
   "source": [
    "---\n",
    "\n",
    "## Step 3: Test a Model on New Images\n",
    "\n",
    "To give yourself more insight into how your model is working, download at least five pictures of German traffic signs from the web and use your model to predict the traffic sign type.\n",
    "\n",
    "You may find `signnames.csv` useful as it contains mappings from the class id (integer) to the actual sign name."
   ]
  },
  {
   "cell_type": "markdown",
   "metadata": {},
   "source": [
    "### Load and Output the Images"
   ]
  },
  {
   "cell_type": "code",
   "execution_count": null,
   "metadata": {
    "collapsed": true
   },
   "outputs": [],
   "source": [
    "### Load the images and plot them here.\n",
    "### Feel free to use as many code cells as needed."
   ]
  },
  {
   "cell_type": "markdown",
   "metadata": {},
   "source": [
    "### Predict the Sign Type for Each Image"
   ]
  },
  {
   "cell_type": "code",
   "execution_count": 3,
   "metadata": {
    "collapsed": true
   },
   "outputs": [],
   "source": [
    "### Run the predictions here and use the model to output the prediction for each image.\n",
    "### Make sure to pre-process the images with the same pre-processing pipeline used earlier.\n",
    "### Feel free to use as many code cells as needed."
   ]
  },
  {
   "cell_type": "markdown",
   "metadata": {},
   "source": [
    "### Analyze Performance"
   ]
  },
  {
   "cell_type": "code",
   "execution_count": 4,
   "metadata": {
    "collapsed": true
   },
   "outputs": [],
   "source": [
    "### Calculate the accuracy for these 5 new images. \n",
    "### For example, if the model predicted 1 out of 5 signs correctly, it's 20% accurate on these new images."
   ]
  },
  {
   "cell_type": "markdown",
   "metadata": {},
   "source": [
    "### Output Top 5 Softmax Probabilities For Each Image Found on the Web"
   ]
  },
  {
   "cell_type": "markdown",
   "metadata": {},
   "source": [
    "For each of the new images, print out the model's softmax probabilities to show the **certainty** of the model's predictions (limit the output to the top 5 probabilities for each image). [`tf.nn.top_k`](https://www.tensorflow.org/versions/r0.12/api_docs/python/nn.html#top_k) could prove helpful here. \n",
    "\n",
    "The example below demonstrates how tf.nn.top_k can be used to find the top k predictions for each image.\n",
    "\n",
    "`tf.nn.top_k` will return the values and indices (class ids) of the top k predictions. So if k=3, for each sign, it'll return the 3 largest probabilities (out of a possible 43) and the correspoding class ids.\n",
    "\n",
    "Take this numpy array as an example. The values in the array represent predictions. The array contains softmax probabilities for five candidate images with six possible classes. `tk.nn.top_k` is used to choose the three classes with the highest probability:\n",
    "\n",
    "```\n",
    "# (5, 6) array\n",
    "a = np.array([[ 0.24879643,  0.07032244,  0.12641572,  0.34763842,  0.07893497,\n",
    "         0.12789202],\n",
    "       [ 0.28086119,  0.27569815,  0.08594638,  0.0178669 ,  0.18063401,\n",
    "         0.15899337],\n",
    "       [ 0.26076848,  0.23664738,  0.08020603,  0.07001922,  0.1134371 ,\n",
    "         0.23892179],\n",
    "       [ 0.11943333,  0.29198961,  0.02605103,  0.26234032,  0.1351348 ,\n",
    "         0.16505091],\n",
    "       [ 0.09561176,  0.34396535,  0.0643941 ,  0.16240774,  0.24206137,\n",
    "         0.09155967]])\n",
    "```\n",
    "\n",
    "Running it through `sess.run(tf.nn.top_k(tf.constant(a), k=3))` produces:\n",
    "\n",
    "```\n",
    "TopKV2(values=array([[ 0.34763842,  0.24879643,  0.12789202],\n",
    "       [ 0.28086119,  0.27569815,  0.18063401],\n",
    "       [ 0.26076848,  0.23892179,  0.23664738],\n",
    "       [ 0.29198961,  0.26234032,  0.16505091],\n",
    "       [ 0.34396535,  0.24206137,  0.16240774]]), indices=array([[3, 0, 5],\n",
    "       [0, 1, 4],\n",
    "       [0, 5, 1],\n",
    "       [1, 3, 5],\n",
    "       [1, 4, 3]], dtype=int32))\n",
    "```\n",
    "\n",
    "Looking just at the first row we get `[ 0.34763842,  0.24879643,  0.12789202]`, you can confirm these are the 3 largest probabilities in `a`. You'll also notice `[3, 0, 5]` are the corresponding indices."
   ]
  },
  {
   "cell_type": "code",
   "execution_count": 6,
   "metadata": {
    "collapsed": true
   },
   "outputs": [],
   "source": [
    "### Print out the top five softmax probabilities for the predictions on the German traffic sign images found on the web. \n",
    "### Feel free to use as many code cells as needed."
   ]
  },
  {
   "cell_type": "markdown",
   "metadata": {},
   "source": [
    "---\n",
    "\n",
    "## Step 4: Visualize the Neural Network's State with Test Images\n",
    "\n",
    " This Section is not required to complete but acts as an additional excersise for understaning the output of a neural network's weights. While neural networks can be a great learning device they are often referred to as a black box. We can understand what the weights of a neural network look like better by plotting their feature maps. After successfully training your neural network you can see what it's feature maps look like by plotting the output of the network's weight layers in response to a test stimuli image. From these plotted feature maps, it's possible to see what characteristics of an image the network finds interesting. For a sign, maybe the inner network feature maps react with high activation to the sign's boundary outline or to the contrast in the sign's painted symbol.\n",
    "\n",
    " Provided for you below is the function code that allows you to get the visualization output of any tensorflow weight layer you want. The inputs to the function should be a stimuli image, one used during training or a new one you provided, and then the tensorflow variable name that represents the layer's state during the training process, for instance if you wanted to see what the [LeNet lab's](https://classroom.udacity.com/nanodegrees/nd013/parts/fbf77062-5703-404e-b60c-95b78b2f3f9e/modules/6df7ae49-c61c-4bb2-a23e-6527e69209ec/lessons/601ae704-1035-4287-8b11-e2c2716217ad/concepts/d4aca031-508f-4e0b-b493-e7b706120f81) feature maps looked like for it's second convolutional layer you could enter conv2 as the tf_activation variable.\n",
    "\n",
    "For an example of what feature map outputs look like, check out NVIDIA's results in their paper [End-to-End Deep Learning for Self-Driving Cars](https://devblogs.nvidia.com/parallelforall/deep-learning-self-driving-cars/) in the section Visualization of internal CNN State. NVIDIA was able to show that their network's inner weights had high activations to road boundary lines by comparing feature maps from an image with a clear path to one without. Try experimenting with a similar test to show that your trained network's weights are looking for interesting features, whether it's looking at differences in feature maps from images with or without a sign, or even what feature maps look like in a trained network vs a completely untrained one on the same sign image.\n",
    "\n",
    "<figure>\n",
    " <img src=\"visualize_cnn.png\" width=\"380\" alt=\"Combined Image\" />\n",
    " <figcaption>\n",
    " <p></p> \n",
    " <p style=\"text-align: center;\"> Your output should look something like this (above)</p> \n",
    " </figcaption>\n",
    "</figure>\n",
    " <p></p> \n"
   ]
  },
  {
   "cell_type": "code",
   "execution_count": null,
   "metadata": {
    "collapsed": true
   },
   "outputs": [],
   "source": [
    "### Visualize your network's feature maps here.\n",
    "### Feel free to use as many code cells as needed.\n",
    "\n",
    "# image_input: the test image being fed into the network to produce the feature maps\n",
    "# tf_activation: should be a tf variable name used during your training procedure that represents the calculated state of a specific weight layer\n",
    "# activation_min/max: can be used to view the activation contrast in more detail, by default matplot sets min and max to the actual min and max values of the output\n",
    "# plt_num: used to plot out multiple different weight feature map sets on the same block, just extend the plt number for each new feature map entry\n",
    "\n",
    "def outputFeatureMap(image_input, tf_activation, activation_min=-1, activation_max=-1 ,plt_num=1):\n",
    "    # Here make sure to preprocess your image_input in a way your network expects\n",
    "    # with size, normalization, ect if needed\n",
    "    # image_input =\n",
    "    # Note: x should be the same name as your network's tensorflow data placeholder variable\n",
    "    # If you get an error tf_activation is not defined it maybe having trouble accessing the variable from inside a function\n",
    "    activation = tf_activation.eval(session=sess,feed_dict={x : image_input})\n",
    "    featuremaps = activation.shape[3]\n",
    "    plt.figure(plt_num, figsize=(15,15))\n",
    "    for featuremap in range(featuremaps):\n",
    "        plt.subplot(6,8, featuremap+1) # sets the number of feature maps to show on each row and column\n",
    "        plt.title('FeatureMap ' + str(featuremap)) # displays the feature map number\n",
    "        if activation_min != -1 & activation_max != -1:\n",
    "            plt.imshow(activation[0,:,:, featuremap], interpolation=\"nearest\", vmin =activation_min, vmax=activation_max, cmap=\"gray\")\n",
    "        elif activation_max != -1:\n",
    "            plt.imshow(activation[0,:,:, featuremap], interpolation=\"nearest\", vmax=activation_max, cmap=\"gray\")\n",
    "        elif activation_min !=-1:\n",
    "            plt.imshow(activation[0,:,:, featuremap], interpolation=\"nearest\", vmin=activation_min, cmap=\"gray\")\n",
    "        else:\n",
    "            plt.imshow(activation[0,:,:, featuremap], interpolation=\"nearest\", cmap=\"gray\")"
   ]
  },
  {
   "cell_type": "markdown",
   "metadata": {},
   "source": [
    "### Question 9\n",
    "\n",
    "Discuss how you used the visual output of your trained network's feature maps to show that it had learned to look for interesting characteristics in traffic sign images\n"
   ]
  },
  {
   "cell_type": "markdown",
   "metadata": {},
   "source": [
    "**Answer:**"
   ]
  },
  {
   "cell_type": "markdown",
   "metadata": {},
   "source": [
    "> **Note**: Once you have completed all of the code implementations and successfully answered each question above, you may finalize your work by exporting the iPython Notebook as an HTML document. You can do this by using the menu above and navigating to  \\n\",\n",
    "    \"**File -> Download as -> HTML (.html)**. Include the finished document along with this notebook as your submission."
   ]
  },
  {
   "cell_type": "markdown",
   "metadata": {},
   "source": [
    "### Project Writeup\n",
    "\n",
    "Once you have completed the code implementation, document your results in a project writeup using this [template](https://github.com/udacity/CarND-Traffic-Sign-Classifier-Project/blob/master/writeup_template.md) as a guide. The writeup can be in a markdown or pdf file. "
   ]
  }
 ],
 "metadata": {
  "anaconda-cloud": {},
  "kernelspec": {
   "display_name": "Python 3",
   "language": "python",
   "name": "python3"
  },
  "language_info": {
   "codemirror_mode": {
    "name": "ipython",
    "version": 3
   },
   "file_extension": ".py",
   "mimetype": "text/x-python",
   "name": "python",
   "nbconvert_exporter": "python",
   "pygments_lexer": "ipython3",
   "version": "3.6.0"
  }
 },
 "nbformat": 4,
 "nbformat_minor": 1
}
