{
 "cells": [
  {
   "cell_type": "markdown",
   "metadata": {},
   "source": [
    "# Self-Driving Car Engineer Nanodegree\n",
    "\n",
    "## Deep Learning\n",
    "\n",
    "## Project: Build a Traffic Sign Recognition Classifier\n",
    "\n",
    "In this notebook, a template is provided for you to implement your functionality in stages, which is required to successfully complete this project. If additional code is required that cannot be included in the notebook, be sure that the Python code is successfully imported and included in your submission if necessary. \n",
    "\n",
    "> **Note**: Once you have completed all of the code implementations, you need to finalize your work by exporting the iPython Notebook as an HTML document. Before exporting the notebook to html, all of the code cells need to have been run so that reviewers can see the final implementation and output. You can then export the notebook by using the menu above and navigating to  \\n\",\n",
    "    \"**File -> Download as -> HTML (.html)**. Include the finished document along with this notebook as your submission. \n",
    "\n",
    "In addition to implementing code, there is a writeup to complete. The writeup should be completed in a separate file, which can be either a markdown file or a pdf document. There is a [write up template](https://github.com/udacity/CarND-Traffic-Sign-Classifier-Project/blob/master/writeup_template.md) that can be used to guide the writing process. Completing the code template and writeup template will cover all of the [rubric points](https://review.udacity.com/#!/rubrics/481/view) for this project.\n",
    "\n",
    "The [rubric](https://review.udacity.com/#!/rubrics/481/view) contains \"Stand Out Suggestions\" for enhancing the project beyond the minimum requirements. The stand out suggestions are optional. If you decide to pursue the \"stand out suggestions\", you can include the code in this Ipython notebook and also discuss the results in the writeup file.\n",
    "\n",
    "\n",
    ">**Note:** Code and Markdown cells can be executed using the **Shift + Enter** keyboard shortcut. In addition, Markdown cells can be edited by typically double-clicking the cell to enter edit mode."
   ]
  },
  {
   "cell_type": "markdown",
   "metadata": {},
   "source": [
    "---\n",
    "## Step 0: Load The Data"
   ]
  },
  {
   "cell_type": "code",
   "execution_count": 1,
   "metadata": {
    "collapsed": true
   },
   "outputs": [],
   "source": [
    "# Imports\n",
    "\n",
    "import pickle\n",
    "import random\n",
    "import numpy as np\n",
    "import scipy\n",
    "import matplotlib.pyplot as plt\n",
    "\n",
    "import tensorflow as tf\n",
    "from tensorflow.contrib.layers import flatten\n",
    "\n",
    "from PIL import Image\n",
    "from PIL import ImageEnhance\n",
    "\n",
    "from sklearn.utils import shuffle\n",
    "#from sklearn.preprocessing import normalize"
   ]
  },
  {
   "cell_type": "code",
   "execution_count": 21,
   "metadata": {
    "collapsed": true
   },
   "outputs": [],
   "source": [
    "# constants\n",
    "\n",
    "EPOCHS = 30\n",
    "BATCH_SIZE = 50\n",
    "LEARNING_RATE = 0.001\n",
    "\n",
    "MODEL_FOLDER = \"./networks_backup/\"\n",
    "MODEL_PATH = MODEL_FOLDER + \"exp3\"\n",
    "\n",
    "NETWORK_TO_RESTORE = MODEL_FOLDER + \"exp3_after_epoch_30\""
   ]
  },
  {
   "cell_type": "code",
   "execution_count": 3,
   "metadata": {
    "collapsed": false
   },
   "outputs": [],
   "source": [
    "# toolkit\n",
    "\n",
    "def rgb2gray(rgb):\n",
    "    return np.dot(rgb[...,:3], [0.299, 0.587, 0.114])\n",
    "\n",
    "def print_random_image(dataset, labelset):\n",
    "    index = random.randint(0, len(dataset))\n",
    "    image = dataset[index].squeeze()\n",
    "    plt.figure(figsize=(5,5))\n",
    "    plt.imshow(image)\n",
    "    print(labelset[index])\n",
    "    gray = rgb2gray(image)\n",
    "    plt.figure(figsize=(5,5))\n",
    "    plt.imshow(gray, cmap=\"gray\")\n",
    "    \n",
    "def print_random_greyscale(dataset, labelset):\n",
    "    index = random.randint(0, len(dataset))\n",
    "    rgb = dataset[index]\n",
    "    gray = rgb2gray(rgb)\n",
    "\n",
    "    plt.figure(figsize=(1,1))\n",
    "    plt.imshow(gray, cmap=\"gray\")\n",
    "    print(labelset[index])\n",
    "    \n",
    "def print_image(img):\n",
    "    plt.figure(figsize=(1,1))\n",
    "    plt.imshow(img)\n",
    "    \n",
    "def print_sign_occurrences(labelset):\n",
    "    sign_occurrences = np.zeros((n_classes))\n",
    "    for label in labelset:\n",
    "        sign_occurrences[label] += 1\n",
    "    for i in range(len(sign_occurrences)):\n",
    "        print(str(i) + \": \" + str(sign_occurrences[i]))\n",
    "    plt.plot(sign_occurrences)\n",
    "    plt.ylabel(\"occurrences\")\n",
    "    plt.show()\n",
    "    \n",
    "def increase_contrast(rgb):\n",
    "    image_rgb_pil = Image.fromarray(rgb)\n",
    "    contrast = ImageEnhance.Contrast(image_rgb_pil)\n",
    "    image_rgb_pil = contrast.enhance(2)\n",
    "    rgb = np.asarray(image_rgb_pil)\n",
    "    return rgb\n",
    "\n",
    "def normalize(arr):\n",
    "    # from: http://stackoverflow.com/questions/7422204/intensity-normalization-of-image-using-pythonpil-speed-issues\n",
    "    \n",
    "    \"\"\"\n",
    "    Linear normalization\n",
    "    http://en.wikipedia.org/wiki/Normalization_%28image_processing%29\n",
    "    \"\"\"\n",
    "    arr = arr.astype('float')\n",
    "    # Do not touch the alpha channel\n",
    "    for i in range(3):\n",
    "        minval = arr[...,i].min()\n",
    "        maxval = arr[...,i].max()\n",
    "        if minval != maxval:\n",
    "            arr[...,i] -= minval\n",
    "            arr[...,i] *= (1.0/(maxval-minval))\n",
    "    return arr\n",
    "\n",
    "def greyscale_and_normalize(rgb):\n",
    "    image_rgb_pil = Image.fromarray(rgb)\n",
    "    contrast = ImageEnhance.Contrast(image_rgb_pil)\n",
    "    image_rgb_pil = contrast.enhance(2)\n",
    "    rgb = np.asarray(image_rgb_pil)\n",
    "    return normalize(rgb2gray(rgb)).flatten()\n",
    "\n",
    "def greyscale_and_normalize_dataset(dataset):\n",
    "    normalized_dataset = np.ndarray((len(dataset), image_shape[0] * image_shape[1]))\n",
    "    for i in range(len(dataset)):\n",
    "        np.copyto(normalized_dataset[i], greyscale_and_normalize(dataset[i]), casting='unsafe')\n",
    "    return normalized_dataset\n",
    "\n",
    "def barchart(xlabels, y):\n",
    "    width = 1/1.5\n",
    "    axes = plt.gca()\n",
    "    axes.set_ylim([0.0, 1.0])\n",
    "    plt.bar(range(len(xlabels)), y, width, align='center', color=\"blue\")\n",
    "    plt.xticks(range(len(xlabels)), xlabels)\n",
    "    plt.show()\n",
    "\n",
    "def topk_to_barcharts(topk):\n",
    "    for i in range(len(topk.values)):\n",
    "        x = [str(index) for index in topk.indices[i]] \n",
    "        y = topk.values[i]\n",
    "        barchart(x, y)\n",
    "\n",
    "### ----------------------------------------------------------------------------------------------------------------\n",
    "\n",
    "def preprocess(rgb_arr):\n",
    "    return normalize(rgb_arr)\n",
    "\n",
    "def read_png_and_copy_to_dataset(path, dataset):\n",
    "    image_rgb_pil = Image.open(path).convert('RGB')\n",
    "    #contrast = ImageEnhance.Contrast(image_rgb_pil)\n",
    "    #image_rgb_pil = contrast.enhance(2)\n",
    "    image_rgb = np.asarray(image_rgb_pil)\n",
    "    image_rgb = preprocess(image_rgb)\n",
    "    print_image(image_rgb)\n",
    "    np.copyto(dataset, image_rgb, casting='unsafe')"
   ]
  },
  {
   "cell_type": "code",
   "execution_count": 4,
   "metadata": {
    "collapsed": false
   },
   "outputs": [],
   "source": [
    "# Load pickled data\n",
    "\n",
    "training_file = \"train.p\"\n",
    "validation_file= \"valid.p\"\n",
    "testing_file = \"test.p\"\n",
    "\n",
    "with open(training_file, mode='rb') as f:\n",
    "    train = pickle.load(f)\n",
    "with open(validation_file, mode='rb') as f:\n",
    "    valid = pickle.load(f)\n",
    "with open(testing_file, mode='rb') as f:\n",
    "    test = pickle.load(f)\n",
    "    \n",
    "X_train, y_train = train['features'], train['labels']\n",
    "X_valid, y_valid = valid['features'], valid['labels']\n",
    "X_test, y_test = test['features'], test['labels']"
   ]
  },
  {
   "cell_type": "markdown",
   "metadata": {},
   "source": [
    "---\n",
    "\n",
    "## Step 1: Dataset Summary & Exploration\n",
    "\n",
    "The pickled data is a dictionary with 4 key/value pairs:\n",
    "\n",
    "- `'features'` is a 4D array containing raw pixel data of the traffic sign images, (num examples, width, height, channels).\n",
    "- `'labels'` is a 1D array containing the label/class id of the traffic sign. The file `signnames.csv` contains id -> name mappings for each id.\n",
    "- `'sizes'` is a list containing tuples, (width, height) representing the the original width and height the image.\n",
    "- `'coords'` is a list containing tuples, (x1, y1, x2, y2) representing coordinates of a bounding box around the sign in the image. **THESE COORDINATES ASSUME THE ORIGINAL IMAGE. THE PICKLED DATA CONTAINS RESIZED VERSIONS (32 by 32) OF THESE IMAGES**\n",
    "\n",
    "Complete the basic data summary below. Use python, numpy and/or pandas methods to calculate the data summary rather than hard coding the results. For example, the [pandas shape method](http://pandas.pydata.org/pandas-docs/stable/generated/pandas.DataFrame.shape.html) might be useful for calculating some of the summary results. "
   ]
  },
  {
   "cell_type": "markdown",
   "metadata": {},
   "source": [
    "### Provide a Basic Summary of the Data Set Using Python, Numpy and/or Pandas"
   ]
  },
  {
   "cell_type": "code",
   "execution_count": 5,
   "metadata": {
    "collapsed": false
   },
   "outputs": [
    {
     "name": "stdout",
     "output_type": "stream",
     "text": [
      "Number of training examples = 34799\n",
      "Number of validation examples = 4410\n",
      "Number of testing examples = 12630\n",
      "Image data shape = (32, 32, 3)\n",
      "Number of classes = 43\n"
     ]
    }
   ],
   "source": [
    "### Replace each question mark with the appropriate value. \n",
    "### Use python, pandas or numpy methods rather than hard coding the results\n",
    "\n",
    "# Number of training examples\n",
    "n_train = len(X_train)\n",
    "\n",
    "# Number of validation examples\n",
    "n_valid = len(X_valid)\n",
    "\n",
    "# Number of testing examples.\n",
    "n_test = len(X_test)\n",
    "\n",
    "# What's the shape of an traffic sign image?\n",
    "image_shape = X_train[0].shape\n",
    "\n",
    "# How many unique classes/labels there are in the dataset.\n",
    "n_classes = len(set(y_train))\n",
    "\n",
    "print(\"Number of training examples =\", n_train)\n",
    "print(\"Number of validation examples =\", n_valid)\n",
    "print(\"Number of testing examples =\", n_test)\n",
    "print(\"Image data shape =\", image_shape)\n",
    "print(\"Number of classes =\", n_classes)"
   ]
  },
  {
   "cell_type": "markdown",
   "metadata": {},
   "source": [
    "### Include an exploratory visualization of the dataset"
   ]
  },
  {
   "cell_type": "markdown",
   "metadata": {},
   "source": [
    "Visualize the German Traffic Signs Dataset using the pickled file(s). This is open ended, suggestions include: plotting traffic sign images, plotting the count of each sign, etc.\n",
    "\n",
    "The [Matplotlib](http://matplotlib.org/) [examples](http://matplotlib.org/examples/index.html) and [gallery](http://matplotlib.org/gallery.html) pages are a great resource for doing visualizations in Python.\n",
    "\n",
    "**NOTE:** It's recommended you start with something simple first. If you wish to do more, come back to it after you've completed the rest of the sections."
   ]
  },
  {
   "cell_type": "code",
   "execution_count": 6,
   "metadata": {
    "collapsed": false,
    "scrolled": true
   },
   "outputs": [
    {
     "name": "stdout",
     "output_type": "stream",
     "text": [
      "0: 180.0\n",
      "1: 1980.0\n",
      "2: 2010.0\n",
      "3: 1260.0\n",
      "4: 1770.0\n",
      "5: 1650.0\n",
      "6: 360.0\n",
      "7: 1290.0\n",
      "8: 1260.0\n",
      "9: 1320.0\n",
      "10: 1800.0\n",
      "11: 1170.0\n",
      "12: 1890.0\n",
      "13: 1920.0\n",
      "14: 690.0\n",
      "15: 540.0\n",
      "16: 360.0\n",
      "17: 990.0\n",
      "18: 1080.0\n",
      "19: 180.0\n",
      "20: 300.0\n",
      "21: 270.0\n",
      "22: 330.0\n",
      "23: 450.0\n",
      "24: 240.0\n",
      "25: 1350.0\n",
      "26: 540.0\n",
      "27: 210.0\n",
      "28: 480.0\n",
      "29: 240.0\n",
      "30: 390.0\n",
      "31: 690.0\n",
      "32: 210.0\n",
      "33: 599.0\n",
      "34: 360.0\n",
      "35: 1080.0\n",
      "36: 330.0\n",
      "37: 180.0\n",
      "38: 1860.0\n",
      "39: 270.0\n",
      "40: 300.0\n",
      "41: 210.0\n",
      "42: 210.0\n"
     ]
    },
    {
     "data": {
      "image/png": "[encoded data removed]",
      "text/plain": [
       "<matplotlib.figure.Figure at 0x7fae105ee9b0>"
      ]
     },
     "metadata": {},
     "output_type": "display_data"
    }
   ],
   "source": [
    "### Data exploration visualization code goes here.\n",
    "### Feel free to use as many code cells as needed.\n",
    "# Visualizations will be shown in the notebook.\n",
    "%matplotlib inline\n",
    "\n",
    "print_sign_occurrences(y_train)"
   ]
  },
  {
   "cell_type": "code",
   "execution_count": 7,
   "metadata": {
    "collapsed": false
   },
   "outputs": [
    {
     "name": "stdout",
     "output_type": "stream",
     "text": [
      "27\n"
     ]
    },
    {
     "data": {
      "image/png": "[encoded data removed]",
      "text/plain": [
       "<matplotlib.figure.Figure at 0x7fae09a3b320>"
      ]
     },
     "metadata": {},
     "output_type": "display_data"
    },
    {
     "data": {
      "image/png": "[encoded data removed]",
      "text/plain": [
       "<matplotlib.figure.Figure at 0x7fae0994aef0>"
      ]
     },
     "metadata": {},
     "output_type": "display_data"
    }
   ],
   "source": [
    "# print an image from the training set, with its label\n",
    "print_random_image(X_train, y_train)\n",
    "\n",
    "# print a greyscale image from the training set, with its label\n",
    "#print_random_greyscale(X_train, y_train)"
   ]
  },
  {
   "cell_type": "markdown",
   "metadata": {},
   "source": [
    "----\n",
    "\n",
    "## Step 2: Design and Test a Model Architecture\n",
    "\n",
    "Design and implement a deep learning model that learns to recognize traffic signs. Train and test your model on the [German Traffic Sign Dataset](http://benchmark.ini.rub.de/?section=gtsrb&subsection=dataset).\n",
    "\n",
    "There are various aspects to consider when thinking about this problem:\n",
    "\n",
    "- Neural network architecture\n",
    "- Play around preprocessing techniques (normalization, rgb to grayscale, etc)\n",
    "- Number of examples per label (some have more than others).\n",
    "- Generate fake data.\n",
    "\n",
    "Here is an example of a [published baseline model on this problem](http://yann.lecun.com/exdb/publis/pdf/sermanet-ijcnn-11.pdf). It's not required to be familiar with the approach used in the paper but, it's good practice to try to read papers like these.\n",
    "\n",
    "**NOTE:** The LeNet-5 implementation shown in the [classroom](https://classroom.udacity.com/nanodegrees/nd013/parts/fbf77062-5703-404e-b60c-95b78b2f3f9e/modules/6df7ae49-c61c-4bb2-a23e-6527e69209ec/lessons/601ae704-1035-4287-8b11-e2c2716217ad/concepts/d4aca031-508f-4e0b-b493-e7b706120f81) at the end of the CNN lesson is a solid starting point. You'll have to change the number of classes and possibly the preprocessing, but aside from that it's plug and play!"
   ]
  },
  {
   "cell_type": "markdown",
   "metadata": {},
   "source": [
    "### Pre-process the Data Set (normalization, grayscale, etc.)"
   ]
  },
  {
   "cell_type": "markdown",
   "metadata": {},
   "source": [
    "Use the code cell (or multiple code cells, if necessary) to implement the first step of your project."
   ]
  },
  {
   "cell_type": "markdown",
   "metadata": {},
   "source": [
    "### Model Architecture"
   ]
  },
  {
   "cell_type": "code",
   "execution_count": 15,
   "metadata": {
    "collapsed": false
   },
   "outputs": [],
   "source": [
    "### Define your architecture here.\n",
    "### Feel free to use as many code cells as needed.\n",
    "\n",
    "def LeNet(x, keep_prob):    \n",
    "    # Arguments used for tf.truncated_normal, randomly defines variables for the weights and biases for each layer\n",
    "    mu = 0\n",
    "    sigma = 0.1\n",
    "    \n",
    "    #x = tf.reshape(x, (-1, 32, 32, 1))\n",
    "    \n",
    "    # 1x1x10 filter\n",
    "    filter1_W = tf.Variable(tf.truncated_normal(shape=(1, 1, 3, 10), mean = mu, stddev = sigma), name='filter1_W')\n",
    "    filter1_b = tf.Variable(tf.zeros(10), name='filter1_b')\n",
    "    filter1   = tf.nn.conv2d(x, filter1_W, strides=[1, 1, 1, 1], padding='VALID') + filter1_b\n",
    "    \n",
    "    filter1 = tf.nn.relu(filter1)\n",
    "    \n",
    "    # 1x1x3 filter\n",
    "    filter2_W = tf.Variable(tf.truncated_normal(shape=(1, 1, 10, 3), mean = mu, stddev = sigma), name='filter2_W')\n",
    "    filter2_b = tf.Variable(tf.zeros(3), name='filter2_b')\n",
    "    filter2   = tf.nn.conv2d(filter1, filter2_W, strides=[1, 1, 1, 1], padding='VALID') + filter2_b\n",
    "    \n",
    "    filter2 = tf.nn.relu(filter2)\n",
    "    \n",
    "    # SOLUTION: Layer 1: Convolutional. Input = 32x32x3. Output = 28x28x6.\n",
    "    conv1_W = tf.Variable(tf.truncated_normal(shape=(5, 5, 3, 6), mean = mu, stddev = sigma), name='conv1_W')\n",
    "    conv1_b = tf.Variable(tf.zeros(6), name='conv1_b')\n",
    "    conv1   = tf.nn.conv2d(filter2, conv1_W, strides=[1, 1, 1, 1], padding='VALID') + conv1_b\n",
    "\n",
    "    # SOLUTION: Activation.\n",
    "    conv1 = tf.nn.relu(conv1)\n",
    "\n",
    "    # SOLUTION: Pooling. Input = 28x28x6. Output = 14x14x6.\n",
    "    conv1 = tf.nn.max_pool(conv1, ksize=[1, 2, 2, 1], strides=[1, 2, 2, 1], padding='VALID')\n",
    "\n",
    "    # SOLUTION: Layer 2: Convolutional. Output = 10x10x16.\n",
    "    conv2_W = tf.Variable(tf.truncated_normal(shape=(5, 5, 6, 16), mean = mu, stddev = sigma), name='conv2_W')\n",
    "    conv2_b = tf.Variable(tf.zeros(16), name='conv2_b')\n",
    "    conv2   = tf.nn.conv2d(conv1, conv2_W, strides=[1, 1, 1, 1], padding='VALID') + conv2_b\n",
    "    \n",
    "    # SOLUTION: Activation.\n",
    "    conv2 = tf.nn.relu(conv2)\n",
    "\n",
    "    # SOLUTION: Pooling. Input = 10x10x16. Output = 5x5x16.\n",
    "    conv2 = tf.nn.max_pool(conv2, ksize=[1, 2, 2, 1], strides=[1, 2, 2, 1], padding='VALID')\n",
    "\n",
    "    # SOLUTION: Flatten. Input = 5x5x16. Output = 400.\n",
    "    fc0   = flatten(conv2)\n",
    "    \n",
    "    # SOLUTION: Layer 3: Fully Connected. Input = 400. Output = 120.\n",
    "    fc1_W = tf.Variable(tf.truncated_normal(shape=(400, 120), mean = mu, stddev = sigma), name='fc1_W')\n",
    "    fc1_b = tf.Variable(tf.zeros(120), name='fc1_b')\n",
    "    fc1   = tf.matmul(fc0, fc1_W) + fc1_b\n",
    "    \n",
    "    # SOLUTION: Activation.\n",
    "    fc1    = tf.nn.relu(fc1)\n",
    "\n",
    "    # SOLUTION: Layer 4: Fully Connected. Input = 120. Output = 84.\n",
    "    fc2_W  = tf.Variable(tf.truncated_normal(shape=(120, 84), mean = mu, stddev = sigma), name='fc2_W')\n",
    "    fc2_b  = tf.Variable(tf.zeros(84), name='fc2_b')\n",
    "    fc2    = tf.matmul(fc1, fc2_W) + fc2_b\n",
    "    \n",
    "    # SOLUTION: Activation.\n",
    "    fc2    = tf.nn.relu(fc2)\n",
    "    \n",
    "    # Dropout\n",
    "    fc2 = tf.nn.dropout(fc2, keep_prob)\n",
    "\n",
    "    # SOLUTION: Layer 5: Fully Connected. Input = 84. Output = 43.\n",
    "    fc3_W  = tf.Variable(tf.truncated_normal(shape=(84, 43), mean = mu, stddev = sigma), name='fc3_W')\n",
    "    fc3_b  = tf.Variable(tf.zeros(43), name='fc3_b')\n",
    "    logits = tf.matmul(fc2, fc3_W) + fc3_b\n",
    "    \n",
    "    return logits\n",
    "\n",
    "\n",
    "x = tf.placeholder(tf.float32, (None, image_shape[0], image_shape[1], 3))\n",
    "y = tf.placeholder(tf.int32, (None))\n",
    "one_hot_y = tf.one_hot(y, n_classes)\n",
    "keep_prob = tf.placeholder(tf.float32)\n",
    "\n",
    "logits = LeNet(x, keep_prob)\n",
    "loss_op = tf.reduce_mean(tf.nn.softmax_cross_entropy_with_logits(logits, one_hot_y))\n",
    "opt = tf.train.AdamOptimizer(learning_rate = LEARNING_RATE)\n",
    "training_operation = opt.minimize(loss_op)\n",
    "correct_prediction = tf.equal(tf.argmax(logits, 1), tf.argmax(one_hot_y, 1))\n",
    "accuracy_operation = tf.reduce_mean(tf.cast(correct_prediction, tf.float32))\n",
    "\n",
    "\n",
    "def evaluate(X_data, y_data, batch_size=BATCH_SIZE):\n",
    "    num_examples = len(X_data)\n",
    "    total_accuracy = 0.0\n",
    "    sess = tf.get_default_session()\n",
    "    for offset in range(0, num_examples, batch_size):\n",
    "        end = offset + batch_size\n",
    "        batch_x, batch_y = X_data[offset:end], y_data[offset:end]\n",
    "        accuracy = sess.run(accuracy_operation, feed_dict={x: batch_x, y: batch_y, keep_prob: 1.0})\n",
    "        total_accuracy += (accuracy * len(batch_x))\n",
    "    return total_accuracy / num_examples\n",
    "\n",
    "def train_model(X_train, y_train, X_valid, y_valid, model_path, epochs=EPOCHS, batch_size=BATCH_SIZE):\n",
    "    saver = tf.train.Saver()\n",
    "    with tf.Session() as sess:\n",
    "        sess.run(tf.global_variables_initializer())\n",
    "        num_examples = len(X_train)\n",
    "        print(\"Target model name prefix is \" + MODEL_PATH)\n",
    "        print(\"Training in \" + str(epochs) + \" epochs, with batch size \" + str(batch_size) + \"...\")\n",
    "        for i in range(epochs):\n",
    "            X_train, y_train = shuffle(X_train, y_train)\n",
    "            for offset in range(0, num_examples, batch_size):\n",
    "                 end = offset + batch_size\n",
    "                 batch_x, batch_y = X_train[offset:end], y_train[offset:end]\n",
    "                 sess.run(training_operation, feed_dict={x: batch_x, y: batch_y, keep_prob: 0.5})\n",
    "\n",
    "            training_accuracy = evaluate(X_train, y_train, batch_size)\n",
    "            validation_accuracy = evaluate(X_valid, y_valid, batch_size)\n",
    "            print(\"EPOCH {} ...\".format(i+1))\n",
    "            print(\"Training accuracy = {:.3f}\".format(training_accuracy))\n",
    "            print(\"Validation accuracy = {:.3f}\".format(validation_accuracy))\n",
    "            saver.save(sess, str(model_path) + '_after_epoch_' + str(i+1))\n",
    "            print(\"Model saved\")\n",
    "            print()\n"
   ]
  },
  {
   "cell_type": "code",
   "execution_count": 16,
   "metadata": {
    "collapsed": false
   },
   "outputs": [],
   "source": [
    "### Preprocess the data here. Preprocessing steps could include normalization, converting to grayscale, etc.\n",
    "### Feel free to use as many code cells as needed.\n",
    "\n",
    "X_train_preprocessed = [preprocess(rgb) for rgb in X_train]\n",
    "X_valid_preprocessed = [preprocess(rgb) for rgb in X_valid]\n",
    "X_test_preprocessed = [preprocess(rgb) for rgb in X_test]\n"
   ]
  },
  {
   "cell_type": "code",
   "execution_count": 17,
   "metadata": {
    "collapsed": false
   },
   "outputs": [
    {
     "name": "stdout",
     "output_type": "stream",
     "text": [
      "10\n",
      "3\n"
     ]
    },
    {
     "data": {
      "image/png": "[encoded data removed]",
      "text/plain": [
       "<matplotlib.figure.Figure at 0x7fae03641630>"
      ]
     },
     "metadata": {},
     "output_type": "display_data"
    },
    {
     "data": {
      "image/png": "[encoded data removed]",
      "text/plain": [
       "<matplotlib.figure.Figure at 0x7fae08f855f8>"
      ]
     },
     "metadata": {},
     "output_type": "display_data"
    },
    {
     "data": {
      "image/png": "[encoded data removed]",
      "text/plain": [
       "<matplotlib.figure.Figure at 0x7fae03641dd8>"
      ]
     },
     "metadata": {},
     "output_type": "display_data"
    }
   ],
   "source": [
    "# print an image from the training set, with its label\n",
    "print_random_image(X_train_preprocessed, y_train)\n",
    "\n",
    "# print a greyscale image from the training set, with its label\n",
    "print_random_greyscale(X_train_preprocessed, y_train)"
   ]
  },
  {
   "cell_type": "markdown",
   "metadata": {},
   "source": [
    "### Train, Validate and Test the Model"
   ]
  },
  {
   "cell_type": "markdown",
   "metadata": {},
   "source": [
    "A validation set can be used to assess how well the model is performing. A low accuracy on the training and validation\n",
    "sets imply underfitting. A high accuracy on the training set but low accuracy on the validation set implies overfitting."
   ]
  },
  {
   "cell_type": "code",
   "execution_count": 20,
   "metadata": {
    "collapsed": false,
    "scrolled": true
   },
   "outputs": [
    {
     "name": "stdout",
     "output_type": "stream",
     "text": [
      "Target model name prefix is ./networks_backup/exp3\n",
      "Training in 30 epochs, with batch size 50...\n",
      "EPOCH 1 ...\n",
      "Training accuracy = 0.426\n",
      "Validation accuracy = 0.365\n",
      "Model saved\n",
      "\n",
      "EPOCH 2 ...\n",
      "Training accuracy = 0.564\n",
      "Validation accuracy = 0.514\n",
      "Model saved\n",
      "\n",
      "EPOCH 3 ...\n",
      "Training accuracy = 0.721\n",
      "Validation accuracy = 0.674\n",
      "Model saved\n",
      "\n",
      "EPOCH 4 ...\n",
      "Training accuracy = 0.843\n",
      "Validation accuracy = 0.788\n",
      "Model saved\n",
      "\n",
      "EPOCH 5 ...\n",
      "Training accuracy = 0.911\n",
      "Validation accuracy = 0.848\n",
      "Model saved\n",
      "\n",
      "EPOCH 6 ...\n",
      "Training accuracy = 0.947\n",
      "Validation accuracy = 0.878\n",
      "Model saved\n",
      "\n",
      "EPOCH 7 ...\n",
      "Training accuracy = 0.967\n",
      "Validation accuracy = 0.895\n",
      "Model saved\n",
      "\n",
      "EPOCH 8 ...\n",
      "Training accuracy = 0.974\n",
      "Validation accuracy = 0.897\n",
      "Model saved\n",
      "\n",
      "EPOCH 9 ...\n",
      "Training accuracy = 0.980\n",
      "Validation accuracy = 0.903\n",
      "Model saved\n",
      "\n",
      "EPOCH 10 ...\n",
      "Training accuracy = 0.983\n",
      "Validation accuracy = 0.921\n",
      "Model saved\n",
      "\n",
      "EPOCH 11 ...\n",
      "Training accuracy = 0.989\n",
      "Validation accuracy = 0.921\n",
      "Model saved\n",
      "\n",
      "EPOCH 12 ...\n",
      "Training accuracy = 0.988\n",
      "Validation accuracy = 0.922\n",
      "Model saved\n",
      "\n",
      "EPOCH 13 ...\n",
      "Training accuracy = 0.991\n",
      "Validation accuracy = 0.926\n",
      "Model saved\n",
      "\n",
      "EPOCH 14 ...\n",
      "Training accuracy = 0.989\n",
      "Validation accuracy = 0.922\n",
      "Model saved\n",
      "\n",
      "EPOCH 15 ...\n",
      "Training accuracy = 0.992\n",
      "Validation accuracy = 0.937\n",
      "Model saved\n",
      "\n",
      "EPOCH 16 ...\n",
      "Training accuracy = 0.995\n",
      "Validation accuracy = 0.944\n",
      "Model saved\n",
      "\n",
      "EPOCH 17 ...\n",
      "Training accuracy = 0.994\n",
      "Validation accuracy = 0.937\n",
      "Model saved\n",
      "\n",
      "EPOCH 18 ...\n",
      "Training accuracy = 0.994\n",
      "Validation accuracy = 0.929\n",
      "Model saved\n",
      "\n",
      "EPOCH 19 ...\n",
      "Training accuracy = 0.994\n",
      "Validation accuracy = 0.932\n",
      "Model saved\n",
      "\n",
      "EPOCH 20 ...\n",
      "Training accuracy = 0.997\n",
      "Validation accuracy = 0.943\n",
      "Model saved\n",
      "\n",
      "EPOCH 21 ...\n",
      "Training accuracy = 0.997\n",
      "Validation accuracy = 0.942\n",
      "Model saved\n",
      "\n",
      "EPOCH 22 ...\n",
      "Training accuracy = 0.989\n",
      "Validation accuracy = 0.938\n",
      "Model saved\n",
      "\n",
      "EPOCH 23 ...\n",
      "Training accuracy = 0.995\n",
      "Validation accuracy = 0.942\n",
      "Model saved\n",
      "\n",
      "EPOCH 24 ...\n",
      "Training accuracy = 0.998\n",
      "Validation accuracy = 0.943\n",
      "Model saved\n",
      "\n",
      "EPOCH 25 ...\n",
      "Training accuracy = 0.998\n",
      "Validation accuracy = 0.946\n",
      "Model saved\n",
      "\n",
      "EPOCH 26 ...\n",
      "Training accuracy = 0.998\n",
      "Validation accuracy = 0.942\n",
      "Model saved\n",
      "\n",
      "EPOCH 27 ...\n",
      "Training accuracy = 0.996\n",
      "Validation accuracy = 0.939\n",
      "Model saved\n",
      "\n",
      "EPOCH 28 ...\n",
      "Training accuracy = 0.998\n",
      "Validation accuracy = 0.941\n",
      "Model saved\n",
      "\n",
      "EPOCH 29 ...\n",
      "Training accuracy = 0.998\n",
      "Validation accuracy = 0.953\n",
      "Model saved\n",
      "\n",
      "EPOCH 30 ...\n",
      "Training accuracy = 0.999\n",
      "Validation accuracy = 0.951\n",
      "Model saved\n",
      "\n"
     ]
    }
   ],
   "source": [
    "### Train your model here.\n",
    "### Calculate and report the accuracy on the training and validation set.\n",
    "### Once a final model architecture is selected, \n",
    "### the accuracy on the test set should be calculated and reported as well.\n",
    "### Feel free to use as many code cells as needed.\n",
    "\n",
    "train_model(X_train_preprocessed, y_train, X_valid_preprocessed, y_valid, MODEL_PATH, EPOCHS, BATCH_SIZE)"
   ]
  },
  {
   "cell_type": "code",
   "execution_count": 22,
   "metadata": {
    "collapsed": false
   },
   "outputs": [
    {
     "name": "stdout",
     "output_type": "stream",
     "text": [
      "Test accuracy = 0.934\n"
     ]
    }
   ],
   "source": [
    "# evaluate test set\n",
    "\n",
    "saver = tf.train.Saver()\n",
    "with tf.Session() as sess:\n",
    "    saver.restore(sess, NETWORK_TO_RESTORE)\n",
    "    prediction_accuracy = evaluate(X_test_preprocessed, y_test)\n",
    "    print(\"Test accuracy = {:.3f}\".format(prediction_accuracy))"
   ]
  },
  {
   "cell_type": "markdown",
   "metadata": {},
   "source": [
    "---\n",
    "\n",
    "## Step 3: Test a Model on New Images\n",
    "\n",
    "To give yourself more insight into how your model is working, download at least five pictures of German traffic signs from the web and use your model to predict the traffic sign type.\n",
    "\n",
    "You may find `signnames.csv` useful as it contains mappings from the class id (integer) to the actual sign name."
   ]
  },
  {
   "cell_type": "markdown",
   "metadata": {},
   "source": [
    "### Load and Output the Images"
   ]
  },
  {
   "cell_type": "code",
   "execution_count": 23,
   "metadata": {
    "collapsed": false
   },
   "outputs": [
    {
     "data": {
      "image/png": "[encoded data removed]",
      "text/plain": [
       "<matplotlib.figure.Figure at 0x7fadf8689fd0>"
      ]
     },
     "metadata": {},
     "output_type": "display_data"
    },
    {
     "data": {
      "image/png": "[encoded data removed]",
      "text/plain": [
       "<matplotlib.figure.Figure at 0x7fadfa050828>"
      ]
     },
     "metadata": {},
     "output_type": "display_data"
    },
    {
     "data": {
      "image/png": "[encoded data removed]",
      "text/plain": [
       "<matplotlib.figure.Figure at 0x7fadead26b00>"
      ]
     },
     "metadata": {},
     "output_type": "display_data"
    },
    {
     "data": {
      "image/png": "[encoded data removed]",
      "text/plain": [
       "<matplotlib.figure.Figure at 0x7fadeb1206d8>"
      ]
     },
     "metadata": {},
     "output_type": "display_data"
    },
    {
     "data": {
      "image/png": "[encoded data removed]",
      "text/plain": [
       "<matplotlib.figure.Figure at 0x7fadeb014cf8>"
      ]
     },
     "metadata": {},
     "output_type": "display_data"
    },
    {
     "data": {
      "image/png": "[encoded data removed]",
      "text/plain": [
       "<matplotlib.figure.Figure at 0x7fadf9a3ba58>"
      ]
     },
     "metadata": {},
     "output_type": "display_data"
    },
    {
     "data": {
      "image/png": "[encoded data removed]",
      "text/plain": [
       "<matplotlib.figure.Figure at 0x7fadeaf88e48>"
      ]
     },
     "metadata": {},
     "output_type": "display_data"
    },
    {
     "data": {
      "image/png": "[encoded data removed]",
      "text/plain": [
       "<matplotlib.figure.Figure at 0x7fadeb15b3c8>"
      ]
     },
     "metadata": {},
     "output_type": "display_data"
    }
   ],
   "source": [
    "### Load the images and plot them here.\n",
    "### Feel free to use as many code cells as needed.\n",
    "\n",
    "X_own_test = np.ndarray((8, 32, 32, 3))\n",
    "y_own_test = np.array([1, 1, 5, 9, 14, 17, 35, 36])\n",
    "    \n",
    "read_png_and_copy_to_dataset(\"signs_small/1_speed_limit_30_2_32x32.png\", X_own_test[0]) \n",
    "read_png_and_copy_to_dataset(\"signs_small/1_speed_limit_30_32x32.png\", X_own_test[1])\n",
    "read_png_and_copy_to_dataset(\"signs_small/5_speed_limit_80_32x32.PNG\", X_own_test[2])\n",
    "read_png_and_copy_to_dataset(\"signs_small/9_no_passing_32x32.PNG\", X_own_test[3])\n",
    "read_png_and_copy_to_dataset(\"signs_small/14_stop_32x32.PNG\", X_own_test[4])\n",
    "read_png_and_copy_to_dataset(\"signs_small/17_no_entry_32x32.PNG\", X_own_test[5])\n",
    "read_png_and_copy_to_dataset(\"signs_small/35_ahead_only_32x32.PNG\", X_own_test[6])\n",
    "read_png_and_copy_to_dataset(\"signs_small/36_go_straight_or_right_32x32.PNG\", X_own_test[7])\n",
    "\n"
   ]
  },
  {
   "cell_type": "markdown",
   "metadata": {},
   "source": [
    "### Predict the Sign Type for Each Image"
   ]
  },
  {
   "cell_type": "code",
   "execution_count": 24,
   "metadata": {
    "collapsed": false
   },
   "outputs": [
    {
     "name": "stdout",
     "output_type": "stream",
     "text": [
      "Predictions: [ 1  1  5  9 14 17 35 36]\n"
     ]
    }
   ],
   "source": [
    "### Run the predictions here and use the model to output the prediction for each image.\n",
    "### Make sure to pre-process the images with the same pre-processing pipeline used earlier.\n",
    "### Feel free to use as many code cells as needed.\n",
    "saver = tf.train.Saver()\n",
    "\n",
    "predictions = tf.argmax(logits, 1)\n",
    "\n",
    "with tf.Session() as sess:\n",
    "    saver.restore(sess, NETWORK_TO_RESTORE)\n",
    "    \n",
    "    result = sess.run(predictions, feed_dict={x: X_own_test, keep_prob: 1.0})\n",
    "\n",
    "    print(\"Predictions:\", result)"
   ]
  },
  {
   "cell_type": "markdown",
   "metadata": {},
   "source": [
    "### Analyze Performance"
   ]
  },
  {
   "cell_type": "code",
   "execution_count": 25,
   "metadata": {
    "collapsed": false
   },
   "outputs": [
    {
     "name": "stdout",
     "output_type": "stream",
     "text": [
      "Test accuracy on new images = 1.000\n"
     ]
    }
   ],
   "source": [
    "### Calculate the accuracy for these 5 new images. \n",
    "### For example, if the model predicted 1 out of 5 signs correctly, it's 20% accurate on these new images.\n",
    "saver = tf.train.Saver()\n",
    "with tf.Session() as sess:\n",
    "    saver.restore(sess, NETWORK_TO_RESTORE)\n",
    "    prediction_accuracy = evaluate(X_own_test, y_own_test)\n",
    "    print(\"Test accuracy on new images = {:.3f}\".format(prediction_accuracy))"
   ]
  },
  {
   "cell_type": "markdown",
   "metadata": {},
   "source": [
    "### Output Top 5 Softmax Probabilities For Each Image Found on the Web"
   ]
  },
  {
   "cell_type": "markdown",
   "metadata": {},
   "source": [
    "For each of the new images, print out the model's softmax probabilities to show the **certainty** of the model's predictions (limit the output to the top 5 probabilities for each image). [`tf.nn.top_k`](https://www.tensorflow.org/versions/r0.12/api_docs/python/nn.html#top_k) could prove helpful here. \n",
    "\n",
    "The example below demonstrates how tf.nn.top_k can be used to find the top k predictions for each image.\n",
    "\n",
    "`tf.nn.top_k` will return the values and indices (class ids) of the top k predictions. So if k=3, for each sign, it'll return the 3 largest probabilities (out of a possible 43) and the correspoding class ids.\n",
    "\n",
    "Take this numpy array as an example. The values in the array represent predictions. The array contains softmax probabilities for five candidate images with six possible classes. `tk.nn.top_k` is used to choose the three classes with the highest probability:\n",
    "\n",
    "```\n",
    "# (5, 6) array\n",
    "a = np.array([[ 0.24879643,  0.07032244,  0.12641572,  0.34763842,  0.07893497,\n",
    "         0.12789202],\n",
    "       [ 0.28086119,  0.27569815,  0.08594638,  0.0178669 ,  0.18063401,\n",
    "         0.15899337],\n",
    "       [ 0.26076848,  0.23664738,  0.08020603,  0.07001922,  0.1134371 ,\n",
    "         0.23892179],\n",
    "       [ 0.11943333,  0.29198961,  0.02605103,  0.26234032,  0.1351348 ,\n",
    "         0.16505091],\n",
    "       [ 0.09561176,  0.34396535,  0.0643941 ,  0.16240774,  0.24206137,\n",
    "         0.09155967]])\n",
    "```\n",
    "\n",
    "Running it through `sess.run(tf.nn.top_k(tf.constant(a), k=3))` produces:\n",
    "\n",
    "```\n",
    "TopKV2(values=array([[ 0.34763842,  0.24879643,  0.12789202],\n",
    "       [ 0.28086119,  0.27569815,  0.18063401],\n",
    "       [ 0.26076848,  0.23892179,  0.23664738],\n",
    "       [ 0.29198961,  0.26234032,  0.16505091],\n",
    "       [ 0.34396535,  0.24206137,  0.16240774]]), indices=array([[3, 0, 5],\n",
    "       [0, 1, 4],\n",
    "       [0, 5, 1],\n",
    "       [1, 3, 5],\n",
    "       [1, 4, 3]], dtype=int32))\n",
    "```\n",
    "\n",
    "Looking just at the first row we get `[ 0.34763842,  0.24879643,  0.12789202]`, you can confirm these are the 3 largest probabilities in `a`. You'll also notice `[3, 0, 5]` are the corresponding indices."
   ]
  },
  {
   "cell_type": "code",
   "execution_count": null,
   "metadata": {
    "collapsed": false
   },
   "outputs": [
    {
     "data": {
      "image/png": "[encoded data removed]",
      "text/plain": [
       "<matplotlib.figure.Figure at 0x7fadebcda588>"
      ]
     },
     "metadata": {},
     "output_type": "display_data"
    },
    {
     "data": {
      "image/png": "[encoded data removed]",
      "text/plain": [
       "<matplotlib.figure.Figure at 0x7fadeb004e48>"
      ]
     },
     "metadata": {},
     "output_type": "display_data"
    },
    {
     "data": {
      "image/png": "[encoded data removed]",
      "text/plain": [
       "<matplotlib.figure.Figure at 0x7fadf9eb25f8>"
      ]
     },
     "metadata": {},
     "output_type": "display_data"
    },
    {
     "data": {
      "image/png": "[encoded data removed]",
      "text/plain": [
       "<matplotlib.figure.Figure at 0x7fadf97d26d8>"
      ]
     },
     "metadata": {},
     "output_type": "display_data"
    },
    {
     "data": {
      "image/png": "[encoded data removed]",
      "text/plain": [
       "<matplotlib.figure.Figure at 0x7fadf80590f0>"
      ]
     },
     "metadata": {},
     "output_type": "display_data"
    },
    {
     "data": {
      "image/png": "[encoded data removed]",
      "text/plain": [
       "<matplotlib.figure.Figure at 0x7fadebf77278>"
      ]
     },
     "metadata": {},
     "output_type": "display_data"
    },
    {
     "data": {
      "image/png": "[encoded data removed]",
      "text/plain": [
       "<matplotlib.figure.Figure at 0x7fadebe52f28>"
      ]
     },
     "metadata": {},
     "output_type": "display_data"
    }
   ],
   "source": [
    "### Print out the top five softmax probabilities for the predictions on the German traffic sign images found on the web. \n",
    "### Feel free to use as many code cells as needed.\n",
    "saver = tf.train.Saver()\n",
    "\n",
    "predictions = tf.nn.softmax(logits)\n",
    "top_5 = tf.nn.top_k(predictions, k=5)\n",
    "\n",
    "with tf.Session() as sess:\n",
    "    saver.restore(sess, NETWORK_TO_RESTORE)\n",
    "    \n",
    "    result = sess.run(top_5, feed_dict={x: X_own_test, keep_prob: 1.0})\n",
    "    \n",
    "    topk_to_barcharts(result)\n",
    "\n",
    "    print(\"Top 5 Softmax:\", result)"
   ]
  },
  {
   "cell_type": "markdown",
   "metadata": {},
   "source": [
    "---\n",
    "\n",
    "## Step 4: Visualize the Neural Network's State with Test Images\n",
    "\n",
    " This Section is not required to complete but acts as an additional excersise for understaning the output of a neural network's weights. While neural networks can be a great learning device they are often referred to as a black box. We can understand what the weights of a neural network look like better by plotting their feature maps. After successfully training your neural network you can see what it's feature maps look like by plotting the output of the network's weight layers in response to a test stimuli image. From these plotted feature maps, it's possible to see what characteristics of an image the network finds interesting. For a sign, maybe the inner network feature maps react with high activation to the sign's boundary outline or to the contrast in the sign's painted symbol.\n",
    "\n",
    " Provided for you below is the function code that allows you to get the visualization output of any tensorflow weight layer you want. The inputs to the function should be a stimuli image, one used during training or a new one you provided, and then the tensorflow variable name that represents the layer's state during the training process, for instance if you wanted to see what the [LeNet lab's](https://classroom.udacity.com/nanodegrees/nd013/parts/fbf77062-5703-404e-b60c-95b78b2f3f9e/modules/6df7ae49-c61c-4bb2-a23e-6527e69209ec/lessons/601ae704-1035-4287-8b11-e2c2716217ad/concepts/d4aca031-508f-4e0b-b493-e7b706120f81) feature maps looked like for it's second convolutional layer you could enter conv2 as the tf_activation variable.\n",
    "\n",
    "For an example of what feature map outputs look like, check out NVIDIA's results in their paper [End-to-End Deep Learning for Self-Driving Cars](https://devblogs.nvidia.com/parallelforall/deep-learning-self-driving-cars/) in the section Visualization of internal CNN State. NVIDIA was able to show that their network's inner weights had high activations to road boundary lines by comparing feature maps from an image with a clear path to one without. Try experimenting with a similar test to show that your trained network's weights are looking for interesting features, whether it's looking at differences in feature maps from images with or without a sign, or even what feature maps look like in a trained network vs a completely untrained one on the same sign image.\n",
    "\n",
    "<figure>\n",
    " <img src=\"visualize_cnn.png\" width=\"380\" alt=\"Combined Image\" />\n",
    " <figcaption>\n",
    " <p></p> \n",
    " <p style=\"text-align: center;\"> Your output should look something like this (above)</p> \n",
    " </figcaption>\n",
    "</figure>\n",
    " <p></p> \n"
   ]
  },
  {
   "cell_type": "code",
   "execution_count": 108,
   "metadata": {
    "collapsed": false
   },
   "outputs": [],
   "source": [
    "### Visualize your network's feature maps here.\n",
    "### Feel free to use as many code cells as needed.\n",
    "\n",
    "# image_input: the test image being fed into the network to produce the feature maps\n",
    "# tf_activation: should be a tf variable name used during your training procedure that represents the calculated state of a specific weight layer\n",
    "# activation_min/max: can be used to view the activation contrast in more detail, by default matplot sets min and max to the actual min and max values of the output\n",
    "# plt_num: used to plot out multiple different weight feature map sets on the same block, just extend the plt number for each new feature map entry\n",
    "\n",
    "def outputFeatureMap(image_input, tf_activation, activation_min=-1, activation_max=-1 ,plt_num=1):\n",
    "    # Here make sure to preprocess your image_input in a way your network expects\n",
    "    # with size, normalization, ect if needed\n",
    "    # image_input =\n",
    "    # Note: x should be the same name as your network's tensorflow data placeholder variable\n",
    "    # If you get an error tf_activation is not defined it maybe having trouble accessing the variable from inside a function\n",
    "    activation = tf_activation.eval(session=permanent_session)#,feed_dict={x : image_input})\n",
    "    featuremaps = activation.shape[3]\n",
    "    plt.figure(plt_num, figsize=(15,15))\n",
    "    for featuremap in range(featuremaps):\n",
    "        plt.subplot(6,8, featuremap+1) # sets the number of feature maps to show on each row and column\n",
    "        plt.title('FeatureMap ' + str(featuremap)) # displays the feature map number\n",
    "        if activation_min != -1 & activation_max != -1:\n",
    "            plt.imshow(activation[0,:,:, featuremap], interpolation=\"nearest\", vmin =activation_min, vmax=activation_max, cmap=\"gray\")\n",
    "        elif activation_max != -1:\n",
    "            plt.imshow(activation[0,:,:, featuremap], interpolation=\"nearest\", vmax=activation_max, cmap=\"gray\")\n",
    "        elif activation_min !=-1:\n",
    "            plt.imshow(activation[0,:,:, featuremap], interpolation=\"nearest\", vmin=activation_min, cmap=\"gray\")\n",
    "        else:\n",
    "            plt.imshow(activation[0,:,:, featuremap], interpolation=\"nearest\", cmap=\"gray\")\n",
    "       "
   ]
  },
  {
   "cell_type": "code",
   "execution_count": 106,
   "metadata": {
    "collapsed": false
   },
   "outputs": [
    {
     "name": "stdout",
     "output_type": "stream",
     "text": [
      "Loading session...\n",
      "Done.\n"
     ]
    }
   ],
   "source": [
    "# get tf variables\n",
    "saver = tf.train.Saver()\n",
    "print(\"Loading session...\")\n",
    "permanent_session = tf.Session()\n",
    "saver.restore(permanent_session, NETWORK_TO_RESTORE)\n",
    "\n",
    "image_input = np.ndarray((1, 32, 32, 3))\n",
    "read_png_and_copy_to_dataset(\"signs_small/9_no_passing_32x32.PNG\", image_input[0])\n",
    "\n",
    "print(\"Done.\")\n"
   ]
  },
  {
   "cell_type": "code",
   "execution_count": 133,
   "metadata": {
    "collapsed": false
   },
   "outputs": [
    {
     "name": "stdout",
     "output_type": "stream",
     "text": [
      "Printing all variable names...\n",
      "0: Variable:0\n",
      "1: Variable_1:0\n",
      "2: Variable_2:0\n",
      "3: Variable_3:0\n",
      "4: Variable_4:0\n",
      "5: Variable_5:0\n",
      "6: Variable_6:0\n",
      "7: Variable_7:0\n",
      "8: Variable_8:0\n",
      "9: Variable_9:0\n",
      "10: beta1_power:0\n",
      "11: beta2_power:0\n",
      "12: Variable/Adam:0\n",
      "13: Variable/Adam_1:0\n",
      "14: Variable_1/Adam:0\n",
      "15: Variable_1/Adam_1:0\n",
      "16: Variable_2/Adam:0\n",
      "17: Variable_2/Adam_1:0\n",
      "18: Variable_3/Adam:0\n",
      "19: Variable_3/Adam_1:0\n",
      "20: Variable_4/Adam:0\n",
      "21: Variable_4/Adam_1:0\n",
      "22: Variable_5/Adam:0\n",
      "23: Variable_5/Adam_1:0\n",
      "24: Variable_6/Adam:0\n",
      "25: Variable_6/Adam_1:0\n",
      "26: Variable_7/Adam:0\n",
      "27: Variable_7/Adam_1:0\n",
      "28: Variable_8/Adam:0\n",
      "29: Variable_8/Adam_1:0\n",
      "30: Variable_9/Adam:0\n",
      "31: Variable_9/Adam_1:0\n",
      "32: Variable_10:0\n",
      "33: Variable_11:0\n",
      "34: Variable_12:0\n",
      "35: Variable_13:0\n",
      "36: Variable_14:0\n",
      "37: Variable_15:0\n",
      "38: Variable_16:0\n",
      "39: Variable_17:0\n",
      "40: Variable_18:0\n",
      "41: Variable_19:0\n",
      "42: beta1_power_1:0\n",
      "43: beta2_power_1:0\n",
      "44: Variable_10/Adam:0\n",
      "45: Variable_10/Adam_1:0\n",
      "46: Variable_11/Adam:0\n",
      "47: Variable_11/Adam_1:0\n",
      "48: Variable_12/Adam:0\n",
      "49: Variable_12/Adam_1:0\n",
      "50: Variable_13/Adam:0\n",
      "51: Variable_13/Adam_1:0\n",
      "52: Variable_14/Adam:0\n",
      "53: Variable_14/Adam_1:0\n",
      "54: Variable_15/Adam:0\n",
      "55: Variable_15/Adam_1:0\n",
      "56: Variable_16/Adam:0\n",
      "57: Variable_16/Adam_1:0\n",
      "58: Variable_17/Adam:0\n",
      "59: Variable_17/Adam_1:0\n",
      "60: Variable_18/Adam:0\n",
      "61: Variable_18/Adam_1:0\n",
      "62: Variable_19/Adam:0\n",
      "63: Variable_19/Adam_1:0\n",
      "64: Variable_20:0\n",
      "65: Variable_21:0\n",
      "66: Variable_22:0\n",
      "67: Variable_23:0\n",
      "68: Variable_24:0\n",
      "69: Variable_25:0\n",
      "70: Variable_26:0\n",
      "71: Variable_27:0\n",
      "72: Variable_28:0\n",
      "73: Variable_29:0\n",
      "74: beta1_power_2:0\n",
      "75: beta2_power_2:0\n",
      "76: Variable_20/Adam:0\n",
      "77: Variable_20/Adam_1:0\n",
      "78: Variable_21/Adam:0\n",
      "79: Variable_21/Adam_1:0\n",
      "80: Variable_22/Adam:0\n",
      "81: Variable_22/Adam_1:0\n",
      "82: Variable_23/Adam:0\n",
      "83: Variable_23/Adam_1:0\n",
      "84: Variable_24/Adam:0\n",
      "85: Variable_24/Adam_1:0\n",
      "86: Variable_25/Adam:0\n",
      "87: Variable_25/Adam_1:0\n",
      "88: Variable_26/Adam:0\n",
      "89: Variable_26/Adam_1:0\n",
      "90: Variable_27/Adam:0\n",
      "91: Variable_27/Adam_1:0\n",
      "92: Variable_28/Adam:0\n",
      "93: Variable_28/Adam_1:0\n",
      "94: Variable_29/Adam:0\n",
      "95: Variable_29/Adam_1:0\n",
      "96: Variable_30:0\n",
      "97: Variable_31:0\n",
      "98: Variable_32:0\n",
      "99: Variable_33:0\n",
      "100: Variable_34:0\n",
      "101: Variable_35:0\n",
      "102: Variable_36:0\n",
      "103: Variable_37:0\n",
      "104: Variable_38:0\n",
      "105: Variable_39:0\n",
      "106: beta1_power_3:0\n",
      "107: beta2_power_3:0\n",
      "108: Variable_30/Adam:0\n",
      "109: Variable_30/Adam_1:0\n",
      "110: Variable_31/Adam:0\n",
      "111: Variable_31/Adam_1:0\n",
      "112: Variable_32/Adam:0\n",
      "113: Variable_32/Adam_1:0\n",
      "114: Variable_33/Adam:0\n",
      "115: Variable_33/Adam_1:0\n",
      "116: Variable_34/Adam:0\n",
      "117: Variable_34/Adam_1:0\n",
      "118: Variable_35/Adam:0\n",
      "119: Variable_35/Adam_1:0\n",
      "120: Variable_36/Adam:0\n",
      "121: Variable_36/Adam_1:0\n",
      "122: Variable_37/Adam:0\n",
      "123: Variable_37/Adam_1:0\n",
      "124: Variable_38/Adam:0\n",
      "125: Variable_38/Adam_1:0\n",
      "126: Variable_39/Adam:0\n",
      "127: Variable_39/Adam_1:0\n",
      "128: Variable_40:0\n",
      "129: Variable_41:0\n",
      "130: Variable_42:0\n",
      "131: Variable_43:0\n",
      "132: Variable_44:0\n",
      "133: Variable_45:0\n",
      "134: Variable_46:0\n",
      "135: Variable_47:0\n",
      "136: Variable_48:0\n",
      "137: Variable_49:0\n",
      "138: beta1_power_4:0\n",
      "139: beta2_power_4:0\n",
      "140: Variable_40/Adam:0\n",
      "141: Variable_40/Adam_1:0\n",
      "142: Variable_41/Adam:0\n",
      "143: Variable_41/Adam_1:0\n",
      "144: Variable_42/Adam:0\n",
      "145: Variable_42/Adam_1:0\n",
      "146: Variable_43/Adam:0\n",
      "147: Variable_43/Adam_1:0\n",
      "148: Variable_44/Adam:0\n",
      "149: Variable_44/Adam_1:0\n",
      "150: Variable_45/Adam:0\n",
      "151: Variable_45/Adam_1:0\n",
      "152: Variable_46/Adam:0\n",
      "153: Variable_46/Adam_1:0\n",
      "154: Variable_47/Adam:0\n",
      "155: Variable_47/Adam_1:0\n",
      "156: Variable_48/Adam:0\n",
      "157: Variable_48/Adam_1:0\n",
      "158: Variable_49/Adam:0\n",
      "159: Variable_49/Adam_1:0\n",
      "160: Variable_50:0\n",
      "161: Variable_51:0\n",
      "162: Variable_52:0\n",
      "163: Variable_53:0\n",
      "164: Variable_54:0\n",
      "165: Variable_55:0\n",
      "166: Variable_56:0\n",
      "167: Variable_57:0\n",
      "168: Variable_58:0\n",
      "169: Variable_59:0\n",
      "170: Variable_60:0\n",
      "171: Variable_61:0\n",
      "172: Variable_62:0\n",
      "173: Variable_63:0\n",
      "174: Variable_64:0\n",
      "175: Variable_65:0\n",
      "176: beta1_power_5:0\n",
      "177: beta2_power_5:0\n",
      "178: Variable_52/Adam:0\n",
      "179: Variable_52/Adam_1:0\n",
      "180: Variable_53/Adam:0\n",
      "181: Variable_53/Adam_1:0\n",
      "182: Variable_54/Adam:0\n",
      "183: Variable_54/Adam_1:0\n",
      "184: Variable_55/Adam:0\n",
      "185: Variable_55/Adam_1:0\n",
      "186: Variable_56/Adam:0\n",
      "187: Variable_56/Adam_1:0\n",
      "188: Variable_57/Adam:0\n",
      "189: Variable_57/Adam_1:0\n",
      "190: Variable_58/Adam:0\n",
      "191: Variable_58/Adam_1:0\n",
      "192: Variable_59/Adam:0\n",
      "193: Variable_59/Adam_1:0\n",
      "194: Variable_60/Adam:0\n",
      "195: Variable_60/Adam_1:0\n",
      "196: Variable_61/Adam:0\n",
      "197: Variable_61/Adam_1:0\n",
      "198: Variable_62/Adam:0\n",
      "199: Variable_62/Adam_1:0\n",
      "200: Variable_63/Adam:0\n",
      "201: Variable_63/Adam_1:0\n",
      "202: Variable_64/Adam:0\n",
      "203: Variable_64/Adam_1:0\n",
      "204: Variable_65/Adam:0\n",
      "205: Variable_65/Adam_1:0\n",
      "206: Variable_66:0\n",
      "207: Variable_67:0\n",
      "208: Variable_68:0\n",
      "209: Variable_69:0\n",
      "210: Variable_70:0\n",
      "211: Variable_71:0\n",
      "212: Variable_72:0\n",
      "213: Variable_73:0\n",
      "214: Variable_74:0\n",
      "215: Variable_75:0\n",
      "216: Variable_76:0\n",
      "217: Variable_77:0\n",
      "218: Variable_78:0\n",
      "219: Variable_79:0\n",
      "220: beta1_power_6:0\n",
      "221: beta2_power_6:0\n",
      "222: Variable_66/Adam:0\n",
      "223: Variable_66/Adam_1:0\n",
      "224: Variable_67/Adam:0\n",
      "225: Variable_67/Adam_1:0\n",
      "226: Variable_68/Adam:0\n",
      "227: Variable_68/Adam_1:0\n",
      "228: Variable_69/Adam:0\n",
      "229: Variable_69/Adam_1:0\n",
      "230: Variable_70/Adam:0\n",
      "231: Variable_70/Adam_1:0\n",
      "232: Variable_71/Adam:0\n",
      "233: Variable_71/Adam_1:0\n",
      "234: Variable_72/Adam:0\n",
      "235: Variable_72/Adam_1:0\n",
      "236: Variable_73/Adam:0\n",
      "237: Variable_73/Adam_1:0\n",
      "238: Variable_74/Adam:0\n",
      "239: Variable_74/Adam_1:0\n",
      "240: Variable_75/Adam:0\n",
      "241: Variable_75/Adam_1:0\n",
      "242: Variable_76/Adam:0\n",
      "243: Variable_76/Adam_1:0\n",
      "244: Variable_77/Adam:0\n",
      "245: Variable_77/Adam_1:0\n",
      "246: Variable_78/Adam:0\n",
      "247: Variable_78/Adam_1:0\n",
      "248: Variable_79/Adam:0\n",
      "249: Variable_79/Adam_1:0\n"
     ]
    },
    {
     "data": {
      "image/png": "[encoded data removed]",
      "text/plain": [
       "<matplotlib.figure.Figure at 0x7fb6c79284e0>"
      ]
     },
     "metadata": {},
     "output_type": "display_data"
    }
   ],
   "source": [
    "print(\"Printing all variable names...\")\n",
    "\n",
    "global_variables = tf.global_variables()\n",
    "for i in range(len(global_variables)):\n",
    "    print(str(i) + \": \" + str(global_variables[i].name))\n",
    "\n",
    "outputFeatureMap(image_input, tf.global_variables()[32])\n"
   ]
  },
  {
   "cell_type": "markdown",
   "metadata": {},
   "source": [
    "### Question 9\n",
    "\n",
    "Discuss how you used the visual output of your trained network's feature maps to show that it had learned to look for interesting characteristics in traffic sign images\n"
   ]
  },
  {
   "cell_type": "markdown",
   "metadata": {},
   "source": [
    "**Answer:**"
   ]
  },
  {
   "cell_type": "markdown",
   "metadata": {},
   "source": [
    "> **Note**: Once you have completed all of the code implementations and successfully answered each question above, you may finalize your work by exporting the iPython Notebook as an HTML document. You can do this by using the menu above and navigating to  \\n\",\n",
    "    \"**File -> Download as -> HTML (.html)**. Include the finished document along with this notebook as your submission."
   ]
  },
  {
   "cell_type": "markdown",
   "metadata": {},
   "source": [
    "### Project Writeup\n",
    "\n",
    "Once you have completed the code implementation, document your results in a project writeup using this [template](https://github.com/udacity/CarND-Traffic-Sign-Classifier-Project/blob/master/writeup_template.md) as a guide. The writeup can be in a markdown or pdf file. "
   ]
  }
 ],
 "metadata": {
  "anaconda-cloud": {},
  "kernelspec": {
   "display_name": "Python 3",
   "language": "python",
   "name": "python3"
  },
  "language_info": {
   "codemirror_mode": {
    "name": "ipython",
    "version": 3
   },
   "file_extension": ".py",
   "mimetype": "text/x-python",
   "name": "python",
   "nbconvert_exporter": "python",
   "pygments_lexer": "ipython3",
   "version": "3.6.0"
  }
 },
 "nbformat": 4,
 "nbformat_minor": 1
}
